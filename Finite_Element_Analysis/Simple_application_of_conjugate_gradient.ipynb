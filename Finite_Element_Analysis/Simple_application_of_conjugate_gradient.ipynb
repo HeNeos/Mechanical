{
  "nbformat": 4,
  "nbformat_minor": 0,
  "metadata": {
    "kernelspec": {
      "display_name": "Python 3",
      "language": "python",
      "name": "python3"
    },
    "language_info": {
      "codemirror_mode": {
        "name": "ipython",
        "version": 3
      },
      "file_extension": ".py",
      "mimetype": "text/x-python",
      "name": "python",
      "nbconvert_exporter": "python",
      "pygments_lexer": "ipython3",
      "version": "3.7.6"
    },
    "latex_envs": {
      "LaTeX_envs_menu_present": true,
      "autoclose": true,
      "autocomplete": true,
      "bibliofile": "biblio.bib",
      "cite_by": "apalike",
      "current_citInitial": 1,
      "eqLabelWithNumbers": true,
      "eqNumInitial": 1,
      "hotkeys": {
        "equation": "Ctrl-E",
        "itemize": "Ctrl-I"
      },
      "labels_anchors": false,
      "latex_user_defs": false,
      "report_style_numbering": false,
      "user_envs_cfg": false
    },
    "colab": {
      "name": "Simple_application_of_conjugate_gradient.ipynb",
      "provenance": []
    }
  },
  "cells": [
    {
      "cell_type": "code",
      "metadata": {
        "id": "OEbTQA7dELIG",
        "colab_type": "code",
        "colab": {}
      },
      "source": [
        "import math\n",
        "import numpy as np\n",
        "import pandas as pd\n",
        "import matplotlib.pyplot as plt\n"
      ],
      "execution_count": 3,
      "outputs": []
    },
    {
      "cell_type": "markdown",
      "metadata": {
        "id": "WwmD1-SyELIP",
        "colab_type": "text"
      },
      "source": [
        "# Solving with Strassen and Conjugate Gradient optimized method"
      ]
    },
    {
      "cell_type": "code",
      "metadata": {
        "id": "M_AxrrobELIQ",
        "colab_type": "code",
        "colab": {}
      },
      "source": [
        "def NaiveMultiply(A,B):\n",
        "    C = np.zeros((A.shape[0],B.shape[1]))\n",
        "    for i in range(0,C.shape[0]):\n",
        "        for j in range(0,C.shape[1]):\n",
        "            aux = 0\n",
        "            for k in range(0,A.shape[1]):\n",
        "                aux += A[i][k]*B[k][j]\n",
        "            C[i][j] = aux\n",
        "    return C\n",
        "\n",
        "def nextPowerofTwo(n):\n",
        "    return int(2**(ceil(log2(n))))\n",
        "\n",
        "def ModifyMatrix(A):\n",
        "    newA = A\n",
        "    if(A.shape[1]%2 == 1):\n",
        "        aux = np.zeros((A.shape[0],A.shape[1]+1))\n",
        "        aux = np.insert(A,A.shape[1],0,axis=1)\n",
        "        newA = aux\n",
        "    if(newA.shape[0]%2 == 1):\n",
        "        aux = np.zeros((newA.shape[0]+1,newA.shape[1]))\n",
        "        aux = np.insert(newA,newA.shape[0],0,axis=0)\n",
        "        newA = aux\n",
        "    return newA\n",
        "\n",
        "def FastMultiply(oldA,oldB):\n",
        "    rows = oldA.shape[0]\n",
        "    columns = oldB.shape[1]\n",
        "    if(rows <= 2 or columns <=2 or oldA.shape[1] <= 2 or oldB.shape[0] <= 2):\n",
        "        return np.matmul(oldA,oldB)\n",
        "    \n",
        "    A = ModifyMatrix(oldA)\n",
        "    B = ModifyMatrix(oldB)\n",
        "    N1 = A.shape[0]\n",
        "    N2 = A.shape[1]\n",
        "    N3 = B.shape[0]\n",
        "    N4 = B.shape[1]\n",
        "    \n",
        "\n",
        "    a = A[0:N1//2,0:N2//2]\n",
        "    b = A[0:N1//2,N2//2:N2//2+N2//2]\n",
        "    c = A[N1//2:N1//2+N1//2,0:N2//2]\n",
        "    d = A[N1//2:N1//2+N1//2,N2//2:N2//2+N2//2]\n",
        "    \n",
        "    e = B[0:N3//2,0:N4//2]\n",
        "    f = B[0:N3//2,N4//2:N4//2+N4//2]\n",
        "    g = B[N3//2:N3//2+N3//2,0:N4//2]\n",
        "    h = B[N3//2:N3//2+N3//2,N4//2:N4//2+N4//2]\n",
        "    \n",
        "    \n",
        "    p1 = FastMultiply(a,(f-h))\n",
        "    p3 = FastMultiply((c+d),e)\n",
        "    p2 = FastMultiply((a+b),h)\n",
        "    p4 = FastMultiply(d,(g-e))\n",
        "    p5 = FastMultiply((a+d),(e+h))\n",
        "    p6 = FastMultiply((b-d),(g+h))\n",
        "    p7 = FastMultiply((a-c),(e+f))\n",
        "    \n",
        "    \n",
        "    C = np.zeros((rows,columns))\n",
        "    \n",
        "    c11 = p5 + p4 - p2 + p6\n",
        "    c12 = p1 + p2\n",
        "    c21 = p3 + p4\n",
        "    c22 = p1 + p5 - p3 - p7\n",
        "    \n",
        "\n",
        "    \n",
        "    for i in range(0,N1//2):\n",
        "        for j in range(0,N4//2):\n",
        "            C[i][j] = c11[i][j]\n",
        "            if(j + N4//2 < columns):\n",
        "                C[i][j+N4//2] = c12[i][j]\n",
        "            if(i + N1//2 < rows):\n",
        "                C[i+N1//2][j] = c21[i][j]\n",
        "                if(j + N4//2 < columns):\n",
        "                    C[i+N1//2][j+N4//2] = c22[i][j]\n",
        "    return C\n"
      ],
      "execution_count": 4,
      "outputs": []
    },
    {
      "cell_type": "markdown",
      "metadata": {
        "id": "Baw81YOrELIV",
        "colab_type": "text"
      },
      "source": [
        "# Conjugate Gradient"
      ]
    },
    {
      "cell_type": "code",
      "metadata": {
        "id": "lu_s3JzyELIW",
        "colab_type": "code",
        "colab": {}
      },
      "source": [
        "def conjugate_grad(A, b, x=None):\n",
        "    n = b.shape[0]\n",
        "    if not x:\n",
        "        x = np.ones((n,1))\n",
        "    r = np.dot(A, x) - b\n",
        "    p = - r\n",
        "    r_k_norm = FastMultiply(np.transpose(r), r)\n",
        "    for i in range(2*n):\n",
        "        Ap = np.dot(A, p)\n",
        "        \n",
        "        alpha = r_k_norm /FastMultiply(np.transpose(p), Ap)\n",
        "        x += alpha * p\n",
        "        r += alpha * Ap\n",
        "        r_kplus1_norm = FastMultiply(np.transpose(r), r)\n",
        "        beta = r_kplus1_norm / r_k_norm\n",
        "        r_k_norm = r_kplus1_norm\n",
        "        p = beta * p - r\n",
        "    return x"
      ],
      "execution_count": 5,
      "outputs": []
    },
    {
      "cell_type": "markdown",
      "metadata": {
        "id": "PKKLJR1RELIb",
        "colab_type": "text"
      },
      "source": [
        "# Solver "
      ]
    },
    {
      "cell_type": "code",
      "metadata": {
        "id": "4mbWdrk5ELIc",
        "colab_type": "code",
        "colab": {}
      },
      "source": [
        "NodesCondition = []\n",
        "ForcesCondition = []\n",
        "\n",
        "def UBoundaryCondition(nU,u,i):\n",
        "    nU[i][0] = u\n",
        "    NodesCondition.append(i)\n",
        "\n",
        "def FBoundaryCondition(nF,f,i):\n",
        "    nF[i][0] = f\n",
        "    ForcesCondition.append(i)\n",
        "    \n",
        "def AssemblyStiffness(nStiffnessMatrix,k,i,j):\n",
        "    nStiffnessMatrix[i][i] += k\n",
        "    nStiffnessMatrix[i][j] += -k\n",
        "    nStiffnessMatrix[j][i] += -k\n",
        "    nStiffnessMatrix[j][j] += k\n",
        "\n",
        "def Initialize(nStiffnessMatrix,nU,nF):\n",
        "    for i in range(0,Nodes):\n",
        "        nU[i][0] = math.pi\n",
        "        nF[i][0] = math.pi\n",
        "    for i in range(0,NumberOfElement):\n",
        "        AssemblyStiffness(nStiffnessMatrix,K[i][0],int(K[i][1]),int(K[i][2]))\n",
        "\n",
        "def PreSolvingStiffness(nStiffnessMatrix):\n",
        "    nsize = Nodes-len(NodesCondition)\n",
        "    newStiffness = np.zeros((nsize,nsize))\n",
        "    contr = -1\n",
        "    for i in range(0,Nodes):\n",
        "        contc = -1\n",
        "        flagr = False\n",
        "        for k in range(0,len(NodesCondition)):\n",
        "            if(i == NodesCondition[k]):\n",
        "                flagr = True\n",
        "                break\n",
        "        if(flagr):\n",
        "            continue\n",
        "        contr += 1\n",
        "        for j in range(0,Nodes):\n",
        "            flagc = False\n",
        "            for k in range(0,len(NodesCondition)):\n",
        "                if(j == NodesCondition[k]):\n",
        "                    flagc = True\n",
        "                    break\n",
        "            if(flagc):\n",
        "                continue\n",
        "            contc += 1\n",
        "            newStiffness[contr][contc] = nStiffnessMatrix[i][j]\n",
        "    return newStiffness\n",
        "\n",
        "\n",
        "def PreSolvingF(nF,nS,nU):\n",
        "    nsize = Nodes-len(NodesCondition)\n",
        "    newF = np.zeros(nsize).reshape(nsize,1)\n",
        "    contr = -1\n",
        "    for i in range(0,Nodes):\n",
        "        flagr = False\n",
        "        for k in range(0,len(NodesCondition)):\n",
        "            if(i == NodesCondition[k]):\n",
        "                flagr = True\n",
        "                break\n",
        "        if(flagr):\n",
        "            for k in range(0,Nodes):\n",
        "                nF[k][0] = nF[k][0]-nS[k][i]*nU[i][0]\n",
        "            continue\n",
        "\n",
        "            \n",
        "    for i in range(0,Nodes):\n",
        "        flagr = False\n",
        "        for k in range(0,len(NodesCondition)):\n",
        "            if(i == NodesCondition[k]):\n",
        "                flagr = True\n",
        "                break\n",
        "        if(flagr):\n",
        "            continue\n",
        "        contr += 1\n",
        "        newF[contr][0] = nF[i][0]\n",
        "    \n",
        "    return newF\n",
        "                      \n",
        "\n",
        "def Solve(nStiffnessMatrix,nU,nF):\n",
        "    newStiffness = PreSolvingStiffness(nStiffnessMatrix)\n",
        "    newF = PreSolvingF(nF,nStiffnessMatrix,nU)\n",
        "    u = conjugate_grad(newStiffness,newF)    \n",
        "    contr = -1\n",
        "    for i in range(0,Nodes):\n",
        "        flagr = False\n",
        "        for k in range(0,len(NodesCondition)):\n",
        "            if(i == NodesCondition[k]):\n",
        "                flagr = True\n",
        "                break\n",
        "        if(flagr):\n",
        "            continue\n",
        "        contr += 1\n",
        "        nU[i][0] = u[contr][0]\n",
        "    nnF = FastMultiply(StiffnessMatrix,nU)\n",
        "    return nU,nnF"
      ],
      "execution_count": 6,
      "outputs": []
    },
    {
      "cell_type": "markdown",
      "metadata": {
        "id": "j-NoWOYHELIi",
        "colab_type": "text"
      },
      "source": [
        "# Defining the problem"
      ]
    },
    {
      "cell_type": "code",
      "metadata": {
        "id": "xxnuhhh3ELIi",
        "colab_type": "code",
        "colab": {}
      },
      "source": [
        "NodesCondition = []\n",
        "Nodes = 20\n",
        "Nodes = 2*Nodes+1\n",
        "E = 2*1e5 #MPA\n",
        "L = 1500 #mm\n",
        "b0 = 1000 #mm\n",
        "bf = 0 #mm\n",
        "e = 120 #mm\n",
        "P = 50000 #N\n",
        "K = []\n",
        "y = 0.0784532e-3 #N/mm3\n",
        "A = []\n",
        "\n",
        "for i in range(0,Nodes):\n",
        "    b = b0-i*((b0-bf)/(Nodes-1))\n",
        "    nb = b0-(i+1)*(b0-bf)/(Nodes-1)\n",
        "    A.append((b+nb)*e/2)\n",
        "for i in range(0,Nodes-1):\n",
        "    K.append([E*A[i]/(L/(Nodes-1)),i,i+1])\n",
        "\n",
        "NumberOfElement = len(K)\n",
        "\n",
        "StiffnessMatrix = np.zeros((Nodes,Nodes))\n",
        "U = np.zeros(Nodes).reshape(Nodes,1)\n",
        "F = np.zeros(Nodes).reshape(Nodes,1)\n",
        "\n",
        "Initialize(StiffnessMatrix,U,F)\n",
        "UBoundaryCondition(U,0,0)\n",
        "\n",
        "\n",
        "for i in range(1,Nodes):\n",
        "    if(i%2 == 1):\n",
        "        W = y*(A[i]+A[i-1])*(L/(Nodes-1))\n",
        "        FBoundaryCondition(F,W,i)\n",
        "    else:\n",
        "        FBoundaryCondition(F,0,i)\n",
        "        \n",
        "if((NumberOfElement//2)%2 == 1):\n",
        "    W = y*(A[NumberOfElement//2]+A[NumberOfElement//2-1])*(L/(Nodes-1))\n",
        "    FBoundaryCondition(F,P+W,NumberOfElement//2)\n",
        "else:\n",
        "    FBoundaryCondition(F,P,NumberOfElement//2)\n",
        "\n",
        "U,F=Solve(StiffnessMatrix,U,F)\n",
        "\n",
        "\n",
        "#print(\"Stiffness Matrix:\\n\",StiffnessMatrix,'\\n')\n",
        "#print(\"Displacements:\\n\",U,'\\n')\n",
        "#print(\"Forces:\\n\",F[0])"
      ],
      "execution_count": 7,
      "outputs": []
    },
    {
      "cell_type": "markdown",
      "metadata": {
        "id": "4UF5swxlELIn",
        "colab_type": "text"
      },
      "source": [
        "# Visualizing the data"
      ]
    },
    {
      "cell_type": "code",
      "metadata": {
        "id": "kHtfpXWFELIo",
        "colab_type": "code",
        "colab": {
          "base_uri": "https://localhost:8080/",
          "height": 352
        },
        "outputId": "ede78207-3ef5-4f73-e33a-90fc97cb7f32"
      },
      "source": [
        "plt.figure(figsize=(10,5))\n",
        "plt.xlabel(\"Nodo\")\n",
        "plt.ylabel(\"Fuerza (N)\")\n",
        "plt.plot(F,'-bo')\n",
        "#plt.show()\n",
        "#plt.savefig(\"forze20.pdf\")"
      ],
      "execution_count": 8,
      "outputs": [
        {
          "output_type": "execute_result",
          "data": {
            "text/plain": [
              "[<matplotlib.lines.Line2D at 0x7f1ea8044a90>]"
            ]
          },
          "metadata": {
            "tags": []
          },
          "execution_count": 8
        },
        {
          "output_type": "display_data",
          "data": {
            "image/png": "[encoded data removed]",
            "text/plain": [
              "<Figure size 720x360 with 1 Axes>"
            ]
          },
          "metadata": {
            "tags": [],
            "needs_background": "light"
          }
        }
      ]
    },
    {
      "cell_type": "code",
      "metadata": {
        "id": "AI39IJ6KELIv",
        "colab_type": "code",
        "colab": {
          "base_uri": "https://localhost:8080/",
          "height": 354
        },
        "outputId": "89a64b7c-b1ea-42c8-90d0-e47a71dc01cd"
      },
      "source": [
        "plt.figure(figsize=(10,5))\n",
        "plt.xlabel(\"Nodo\")\n",
        "plt.ylabel(\"Desplazamiento\")\n",
        "plt.plot(U,'-ob')\n",
        "#plt.show()\n",
        "#plt.savefig(\"def30.pdf\")"
      ],
      "execution_count": 9,
      "outputs": [
        {
          "output_type": "execute_result",
          "data": {
            "text/plain": [
              "[<matplotlib.lines.Line2D at 0x7f1ea7febd30>]"
            ]
          },
          "metadata": {
            "tags": []
          },
          "execution_count": 9
        },
        {
          "output_type": "display_data",
          "data": {
            "image/png": "[encoded data removed]",
            "text/plain": [
              "<Figure size 720x360 with 1 Axes>"
            ]
          },
          "metadata": {
            "tags": [],
            "needs_background": "light"
          }
        }
      ]
    },
    {
      "cell_type": "code",
      "metadata": {
        "id": "hghwX9PjELIz",
        "colab_type": "code",
        "colab": {
          "base_uri": "https://localhost:8080/",
          "height": 1000
        },
        "outputId": "c249846e-7cab-4719-db77-cde78d8e6f29"
      },
      "source": [
        "Displacements_data =  pd.DataFrame(data=U, columns=[\"Desplazamientos\"])\n",
        "Forces_data = pd.DataFrame(data=F, columns=[\"Fuerzas\"])\n",
        "Displacements_data.join(Forces_data)"
      ],
      "execution_count": 10,
      "outputs": [
        {
          "output_type": "execute_result",
          "data": {
            "text/html": [
              "<div>\n",
              "<style scoped>\n",
              "    .dataframe tbody tr th:only-of-type {\n",
              "        vertical-align: middle;\n",
              "    }\n",
              "\n",
              "    .dataframe tbody tr th {\n",
              "        vertical-align: top;\n",
              "    }\n",
              "\n",
              "    .dataframe thead th {\n",
              "        text-align: right;\n",
              "    }\n",
              "</style>\n",
              "<table border=\"1\" class=\"dataframe\">\n",
              "  <thead>\n",
              "    <tr style=\"text-align: right;\">\n",
              "      <th></th>\n",
              "      <th>Desplazamientos</th>\n",
              "      <th>Fuerzas</th>\n",
              "    </tr>\n",
              "  </thead>\n",
              "  <tbody>\n",
              "    <tr>\n",
              "      <th>0</th>\n",
              "      <td>0.000000</td>\n",
              "      <td>-5.706079e+04</td>\n",
              "    </tr>\n",
              "    <tr>\n",
              "      <th>1</th>\n",
              "      <td>0.000090</td>\n",
              "      <td>6.884268e+02</td>\n",
              "    </tr>\n",
              "    <tr>\n",
              "      <th>2</th>\n",
              "      <td>0.000182</td>\n",
              "      <td>7.997733e-08</td>\n",
              "    </tr>\n",
              "    <tr>\n",
              "      <th>3</th>\n",
              "      <td>0.000276</td>\n",
              "      <td>6.531229e+02</td>\n",
              "    </tr>\n",
              "    <tr>\n",
              "      <th>4</th>\n",
              "      <td>0.000371</td>\n",
              "      <td>-1.606531e-08</td>\n",
              "    </tr>\n",
              "    <tr>\n",
              "      <th>5</th>\n",
              "      <td>0.000469</td>\n",
              "      <td>6.178190e+02</td>\n",
              "    </tr>\n",
              "    <tr>\n",
              "      <th>6</th>\n",
              "      <td>0.000569</td>\n",
              "      <td>-3.840541e-07</td>\n",
              "    </tr>\n",
              "    <tr>\n",
              "      <th>7</th>\n",
              "      <td>0.000672</td>\n",
              "      <td>5.825150e+02</td>\n",
              "    </tr>\n",
              "    <tr>\n",
              "      <th>8</th>\n",
              "      <td>0.000777</td>\n",
              "      <td>-4.492467e-07</td>\n",
              "    </tr>\n",
              "    <tr>\n",
              "      <th>9</th>\n",
              "      <td>0.000885</td>\n",
              "      <td>5.472111e+02</td>\n",
              "    </tr>\n",
              "    <tr>\n",
              "      <th>10</th>\n",
              "      <td>0.000995</td>\n",
              "      <td>-1.644948e-07</td>\n",
              "    </tr>\n",
              "    <tr>\n",
              "      <th>11</th>\n",
              "      <td>0.001110</td>\n",
              "      <td>5.119071e+02</td>\n",
              "    </tr>\n",
              "    <tr>\n",
              "      <th>12</th>\n",
              "      <td>0.001227</td>\n",
              "      <td>6.621704e-07</td>\n",
              "    </tr>\n",
              "    <tr>\n",
              "      <th>13</th>\n",
              "      <td>0.001349</td>\n",
              "      <td>4.766032e+02</td>\n",
              "    </tr>\n",
              "    <tr>\n",
              "      <th>14</th>\n",
              "      <td>0.001474</td>\n",
              "      <td>-4.498288e-07</td>\n",
              "    </tr>\n",
              "    <tr>\n",
              "      <th>15</th>\n",
              "      <td>0.001603</td>\n",
              "      <td>4.412993e+02</td>\n",
              "    </tr>\n",
              "    <tr>\n",
              "      <th>16</th>\n",
              "      <td>0.001737</td>\n",
              "      <td>-5.215406e-08</td>\n",
              "    </tr>\n",
              "    <tr>\n",
              "      <th>17</th>\n",
              "      <td>0.001877</td>\n",
              "      <td>4.059953e+02</td>\n",
              "    </tr>\n",
              "    <tr>\n",
              "      <th>18</th>\n",
              "      <td>0.002022</td>\n",
              "      <td>-7.438939e-07</td>\n",
              "    </tr>\n",
              "    <tr>\n",
              "      <th>19</th>\n",
              "      <td>0.002174</td>\n",
              "      <td>3.706914e+02</td>\n",
              "    </tr>\n",
              "    <tr>\n",
              "      <th>20</th>\n",
              "      <td>0.002331</td>\n",
              "      <td>5.000000e+04</td>\n",
              "    </tr>\n",
              "    <tr>\n",
              "      <th>21</th>\n",
              "      <td>0.002337</td>\n",
              "      <td>3.353874e+02</td>\n",
              "    </tr>\n",
              "    <tr>\n",
              "      <th>22</th>\n",
              "      <td>0.002342</td>\n",
              "      <td>-1.105946e-07</td>\n",
              "    </tr>\n",
              "    <tr>\n",
              "      <th>23</th>\n",
              "      <td>0.002347</td>\n",
              "      <td>3.000835e+02</td>\n",
              "    </tr>\n",
              "    <tr>\n",
              "      <th>24</th>\n",
              "      <td>0.002351</td>\n",
              "      <td>-4.726462e-08</td>\n",
              "    </tr>\n",
              "    <tr>\n",
              "      <th>25</th>\n",
              "      <td>0.002356</td>\n",
              "      <td>2.647795e+02</td>\n",
              "    </tr>\n",
              "    <tr>\n",
              "      <th>26</th>\n",
              "      <td>0.002360</td>\n",
              "      <td>-9.266660e-08</td>\n",
              "    </tr>\n",
              "    <tr>\n",
              "      <th>27</th>\n",
              "      <td>0.002364</td>\n",
              "      <td>2.294756e+02</td>\n",
              "    </tr>\n",
              "    <tr>\n",
              "      <th>28</th>\n",
              "      <td>0.002367</td>\n",
              "      <td>-3.214227e-07</td>\n",
              "    </tr>\n",
              "    <tr>\n",
              "      <th>29</th>\n",
              "      <td>0.002370</td>\n",
              "      <td>1.941717e+02</td>\n",
              "    </tr>\n",
              "    <tr>\n",
              "      <th>30</th>\n",
              "      <td>0.002373</td>\n",
              "      <td>2.200250e-08</td>\n",
              "    </tr>\n",
              "    <tr>\n",
              "      <th>31</th>\n",
              "      <td>0.002376</td>\n",
              "      <td>1.588677e+02</td>\n",
              "    </tr>\n",
              "    <tr>\n",
              "      <th>32</th>\n",
              "      <td>0.002378</td>\n",
              "      <td>1.618173e-07</td>\n",
              "    </tr>\n",
              "    <tr>\n",
              "      <th>33</th>\n",
              "      <td>0.002380</td>\n",
              "      <td>1.235638e+02</td>\n",
              "    </tr>\n",
              "    <tr>\n",
              "      <th>34</th>\n",
              "      <td>0.002382</td>\n",
              "      <td>3.754394e-08</td>\n",
              "    </tr>\n",
              "    <tr>\n",
              "      <th>35</th>\n",
              "      <td>0.002383</td>\n",
              "      <td>8.825985e+01</td>\n",
              "    </tr>\n",
              "    <tr>\n",
              "      <th>36</th>\n",
              "      <td>0.002384</td>\n",
              "      <td>-8.498318e-09</td>\n",
              "    </tr>\n",
              "    <tr>\n",
              "      <th>37</th>\n",
              "      <td>0.002386</td>\n",
              "      <td>5.295591e+01</td>\n",
              "    </tr>\n",
              "    <tr>\n",
              "      <th>38</th>\n",
              "      <td>0.002386</td>\n",
              "      <td>2.386514e-09</td>\n",
              "    </tr>\n",
              "    <tr>\n",
              "      <th>39</th>\n",
              "      <td>0.002387</td>\n",
              "      <td>1.765197e+01</td>\n",
              "    </tr>\n",
              "    <tr>\n",
              "      <th>40</th>\n",
              "      <td>0.002387</td>\n",
              "      <td>1.888111e-09</td>\n",
              "    </tr>\n",
              "  </tbody>\n",
              "</table>\n",
              "</div>"
            ],
            "text/plain": [
              "    Desplazamientos       Fuerzas\n",
              "0          0.000000 -5.706079e+04\n",
              "1          0.000090  6.884268e+02\n",
              "2          0.000182  7.997733e-08\n",
              "3          0.000276  6.531229e+02\n",
              "4          0.000371 -1.606531e-08\n",
              "5          0.000469  6.178190e+02\n",
              "6          0.000569 -3.840541e-07\n",
              "7          0.000672  5.825150e+02\n",
              "8          0.000777 -4.492467e-07\n",
              "9          0.000885  5.472111e+02\n",
              "10         0.000995 -1.644948e-07\n",
              "11         0.001110  5.119071e+02\n",
              "12         0.001227  6.621704e-07\n",
              "13         0.001349  4.766032e+02\n",
              "14         0.001474 -4.498288e-07\n",
              "15         0.001603  4.412993e+02\n",
              "16         0.001737 -5.215406e-08\n",
              "17         0.001877  4.059953e+02\n",
              "18         0.002022 -7.438939e-07\n",
              "19         0.002174  3.706914e+02\n",
              "20         0.002331  5.000000e+04\n",
              "21         0.002337  3.353874e+02\n",
              "22         0.002342 -1.105946e-07\n",
              "23         0.002347  3.000835e+02\n",
              "24         0.002351 -4.726462e-08\n",
              "25         0.002356  2.647795e+02\n",
              "26         0.002360 -9.266660e-08\n",
              "27         0.002364  2.294756e+02\n",
              "28         0.002367 -3.214227e-07\n",
              "29         0.002370  1.941717e+02\n",
              "30         0.002373  2.200250e-08\n",
              "31         0.002376  1.588677e+02\n",
              "32         0.002378  1.618173e-07\n",
              "33         0.002380  1.235638e+02\n",
              "34         0.002382  3.754394e-08\n",
              "35         0.002383  8.825985e+01\n",
              "36         0.002384 -8.498318e-09\n",
              "37         0.002386  5.295591e+01\n",
              "38         0.002386  2.386514e-09\n",
              "39         0.002387  1.765197e+01\n",
              "40         0.002387  1.888111e-09"
            ]
          },
          "metadata": {
            "tags": []
          },
          "execution_count": 10
        }
      ]
    },
    {
      "cell_type": "code",
      "metadata": {
        "id": "5cArP4y6ELI5",
        "colab_type": "code",
        "colab": {
          "base_uri": "https://localhost:8080/",
          "height": 745
        },
        "outputId": "d5c253aa-df5a-4f85-aa14-e319e346f73f"
      },
      "source": [
        "nU = []\n",
        "nE = []\n",
        "nstrain = []\n",
        "sigma = []\n",
        "strain = []\n",
        "defor = []\n",
        "\n",
        "dL = L/(Nodes-1)\n",
        "\n",
        "for i in range(0,len(U)-1):\n",
        "    strain.append(-U[i][0]/(dL)+U[i+1][0]/(dL))\n",
        "    defor.append(strain[i]*dL)\n",
        "    sigma.append(strain[i]*E)\n",
        "\n",
        "print(\"Esfuerzos (MPa):\\n\",np.array(sigma).reshape((Nodes-1,1)))"
      ],
      "execution_count": 16,
      "outputs": [
        {
          "output_type": "stream",
          "text": [
            "Esfuerzos (MPa):\n",
            " [[4.81525637e-01]\n",
            " [4.88072391e-01]\n",
            " [5.01087655e-01]\n",
            " [5.08851491e-01]\n",
            " [5.23185336e-01]\n",
            " [5.32380863e-01]\n",
            " [5.48272829e-01]\n",
            " [5.59168249e-01]\n",
            " [5.76919622e-01]\n",
            " [5.89854571e-01]\n",
            " [6.09849641e-01]\n",
            " [6.25260656e-01]\n",
            " [6.47997408e-01]\n",
            " [6.66455131e-01]\n",
            " [6.92590627e-01]\n",
            " [7.14855560e-01]\n",
            " [7.45274946e-01]\n",
            " [7.72383531e-01]\n",
            " [8.08308347e-01]\n",
            " [8.41710520e-01]\n",
            " [3.01743077e-02]\n",
            " [2.57623346e-02]\n",
            " [2.72344680e-02]\n",
            " [2.28227491e-02]\n",
            " [2.42951845e-02]\n",
            " [1.98838283e-02]\n",
            " [2.13567044e-02]\n",
            " [1.69458912e-02]\n",
            " [1.84194470e-02]\n",
            " [1.40095000e-02]\n",
            " [1.54841842e-02]\n",
            " [1.10757459e-02]\n",
            " [1.25525120e-02]\n",
            " [8.14706308e-03]\n",
            " [9.62834727e-03]\n",
            " [5.23021333e-03]\n",
            " [6.72456000e-03]\n",
            " [2.35359600e-03]\n",
            " [3.92266000e-03]\n",
            " [1.26038503e-12]]\n"
          ],
          "name": "stdout"
        }
      ]
    },
    {
      "cell_type": "code",
      "metadata": {
        "id": "9F32OMnkELI9",
        "colab_type": "code",
        "colab": {}
      },
      "source": [
        "heatmap = np.zeros((Nodes-1,Nodes-1))\n",
        "for i in range(0,Nodes-1):\n",
        "    for j in range(0,Nodes-1):\n",
        "        if(2*j>=i-1 and 2*(Nodes-1)-2*j-1 >= i):\n",
        "            heatmap[i][j] = 1e3*sigma[i]\n",
        "        else:\n",
        "            heatmap[i][j] = -6e1"
      ],
      "execution_count": 17,
      "outputs": []
    },
    {
      "cell_type": "code",
      "metadata": {
        "id": "HKrE0IcrELJB",
        "colab_type": "code",
        "colab": {
          "base_uri": "https://localhost:8080/",
          "height": 1000
        },
        "outputId": "fc51e26a-a25d-4095-80fa-cf877b268757"
      },
      "source": [
        "plt.figure(figsize=(8,8))\n",
        "plt.grid(False)\n",
        "plt.axes().xaxis.set_visible(False)\n",
        "plt.axes().yaxis.set_visible(False)\n",
        "plt.imshow(heatmap,cmap='gnuplot2',interpolation='nearest')\n",
        "plt.colorbar().set_label('  kPa',rotation=0)\n",
        "#plt.savefig(\"21.pdf\")\n",
        "#plt.show()\n",
        "\n",
        "plt.figure(figsize=(8,8))\n",
        "plt.grid(False)\n",
        "plt.axes().xaxis.set_visible(False)\n",
        "plt.axes().yaxis.set_visible(False)\n",
        "plt.imshow(heatmap,cmap='jet',interpolation='nearest')\n",
        "plt.colorbar().set_label('   kPa',rotation=0)\n",
        "#plt.savefig(\"21.pdf\")\n",
        "#plt.show()\n"
      ],
      "execution_count": 18,
      "outputs": [
        {
          "output_type": "stream",
          "text": [
            "/usr/local/lib/python3.6/dist-packages/ipykernel_launcher.py:3: MatplotlibDeprecationWarning: Adding an axes using the same arguments as a previous axes currently reuses the earlier instance.  In a future version, a new instance will always be created and returned.  Meanwhile, this warning can be suppressed, and the future behavior ensured, by passing a unique label to each axes instance.\n",
            "  This is separate from the ipykernel package so we can avoid doing imports until\n",
            "/usr/local/lib/python3.6/dist-packages/ipykernel_launcher.py:4: MatplotlibDeprecationWarning: Adding an axes using the same arguments as a previous axes currently reuses the earlier instance.  In a future version, a new instance will always be created and returned.  Meanwhile, this warning can be suppressed, and the future behavior ensured, by passing a unique label to each axes instance.\n",
            "  after removing the cwd from sys.path.\n",
            "/usr/local/lib/python3.6/dist-packages/ipykernel_launcher.py:12: MatplotlibDeprecationWarning: Adding an axes using the same arguments as a previous axes currently reuses the earlier instance.  In a future version, a new instance will always be created and returned.  Meanwhile, this warning can be suppressed, and the future behavior ensured, by passing a unique label to each axes instance.\n",
            "  if sys.path[0] == '':\n",
            "/usr/local/lib/python3.6/dist-packages/ipykernel_launcher.py:13: MatplotlibDeprecationWarning: Adding an axes using the same arguments as a previous axes currently reuses the earlier instance.  In a future version, a new instance will always be created and returned.  Meanwhile, this warning can be suppressed, and the future behavior ensured, by passing a unique label to each axes instance.\n",
            "  del sys.path[0]\n"
          ],
          "name": "stderr"
        },
        {
          "output_type": "display_data",
          "data": {
            "image/png": "[encoded data removed]",
            "text/plain": [
              "<Figure size 576x576 with 2 Axes>"
            ]
          },
          "metadata": {
            "tags": [],
            "needs_background": "light"
          }
        },
        {
          "output_type": "display_data",
          "data": {
            "image/png": "[encoded data removed]",
            "text/plain": [
              "<Figure size 576x576 with 2 Axes>"
            ]
          },
          "metadata": {
            "tags": [],
            "needs_background": "light"
          }
        }
      ]
    },
    {
      "cell_type": "code",
      "metadata": {
        "id": "jxWBtKUiELJG",
        "colab_type": "code",
        "colab": {}
      },
      "source": [
        "hdefor = np.zeros((U.shape[0]-1,U.shape[0]-1))\n",
        "for i in range(0,U.shape[0]-1):\n",
        "    for j in range(0,U.shape[0]-1):\n",
        "        if(2*j>=i-1 and 2*U.shape[0]-2*j-1-2 >= i):\n",
        "            hdefor[i][j] = U[i][0]\n",
        "        else:\n",
        "            hdefor[i][j] = 0"
      ],
      "execution_count": 19,
      "outputs": []
    },
    {
      "cell_type": "code",
      "metadata": {
        "id": "oeikzkrAELJL",
        "colab_type": "code",
        "colab": {
          "base_uri": "https://localhost:8080/",
          "height": 1000
        },
        "outputId": "a076e7a7-ee41-4513-852c-93403d494835"
      },
      "source": [
        "plt.figure(figsize=(8,8))\n",
        "plt.grid(False)\n",
        "plt.axes().xaxis.set_visible(False)\n",
        "plt.axes().yaxis.set_visible(False)\n",
        "plt.imshow(hdefor,cmap='gnuplot2',interpolation='nearest')\n",
        "plt.colorbar().set_label('       mm',rotation=0)\n",
        "#plt.savefig(\"22.pdf\")\n",
        "#plt.show()\n",
        "\n",
        "plt.figure(figsize=(8,8))\n",
        "plt.grid(False)\n",
        "plt.axes().xaxis.set_visible(False)\n",
        "plt.axes().yaxis.set_visible(False)\n",
        "plt.imshow(hdefor,cmap='jet',interpolation='nearest')\n",
        "plt.colorbar().set_label('       mm',rotation=0)\n",
        "#plt.savefig(\"gg.pdf\")\n",
        "#plt.show()\n"
      ],
      "execution_count": 20,
      "outputs": [
        {
          "output_type": "stream",
          "text": [
            "/usr/local/lib/python3.6/dist-packages/ipykernel_launcher.py:3: MatplotlibDeprecationWarning: Adding an axes using the same arguments as a previous axes currently reuses the earlier instance.  In a future version, a new instance will always be created and returned.  Meanwhile, this warning can be suppressed, and the future behavior ensured, by passing a unique label to each axes instance.\n",
            "  This is separate from the ipykernel package so we can avoid doing imports until\n",
            "/usr/local/lib/python3.6/dist-packages/ipykernel_launcher.py:4: MatplotlibDeprecationWarning: Adding an axes using the same arguments as a previous axes currently reuses the earlier instance.  In a future version, a new instance will always be created and returned.  Meanwhile, this warning can be suppressed, and the future behavior ensured, by passing a unique label to each axes instance.\n",
            "  after removing the cwd from sys.path.\n",
            "/usr/local/lib/python3.6/dist-packages/ipykernel_launcher.py:12: MatplotlibDeprecationWarning: Adding an axes using the same arguments as a previous axes currently reuses the earlier instance.  In a future version, a new instance will always be created and returned.  Meanwhile, this warning can be suppressed, and the future behavior ensured, by passing a unique label to each axes instance.\n",
            "  if sys.path[0] == '':\n",
            "/usr/local/lib/python3.6/dist-packages/ipykernel_launcher.py:13: MatplotlibDeprecationWarning: Adding an axes using the same arguments as a previous axes currently reuses the earlier instance.  In a future version, a new instance will always be created and returned.  Meanwhile, this warning can be suppressed, and the future behavior ensured, by passing a unique label to each axes instance.\n",
            "  del sys.path[0]\n"
          ],
          "name": "stderr"
        },
        {
          "output_type": "display_data",
          "data": {
            "image/png": "[encoded data removed]",
            "text/plain": [
              "<Figure size 576x576 with 2 Axes>"
            ]
          },
          "metadata": {
            "tags": [],
            "needs_background": "light"
          }
        },
        {
          "output_type": "display_data",
          "data": {
            "image/png": "[encoded data removed]",
            "text/plain": [
              "<Figure size 576x576 with 2 Axes>"
            ]
          },
          "metadata": {
            "tags": [],
            "needs_background": "light"
          }
        }
      ]
    }
  ]
}
