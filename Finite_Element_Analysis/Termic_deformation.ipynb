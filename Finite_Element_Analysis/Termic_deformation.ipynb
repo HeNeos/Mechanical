{
  "nbformat": 4,
  "nbformat_minor": 0,
  "metadata": {
    "kernelspec": {
      "display_name": "Python 3",
      "language": "python",
      "name": "python3"
    },
    "language_info": {
      "codemirror_mode": {
        "name": "ipython",
        "version": 3
      },
      "file_extension": ".py",
      "mimetype": "text/x-python",
      "name": "python",
      "nbconvert_exporter": "python",
      "pygments_lexer": "ipython3",
      "version": "3.7.6"
    },
    "latex_envs": {
      "LaTeX_envs_menu_present": true,
      "autoclose": true,
      "autocomplete": true,
      "bibliofile": "biblio.bib",
      "cite_by": "apalike",
      "current_citInitial": 1,
      "eqLabelWithNumbers": true,
      "eqNumInitial": 1,
      "hotkeys": {
        "equation": "Ctrl-E",
        "itemize": "Ctrl-I"
      },
      "labels_anchors": false,
      "latex_user_defs": false,
      "report_style_numbering": false,
      "user_envs_cfg": false
    },
    "colab": {
      "name": "Termic_deformation.ipynb",
      "provenance": [],
      "collapsed_sections": [],
      "include_colab_link": true
    }
  },
  "cells": [
    {
      "cell_type": "markdown",
      "metadata": {
        "id": "view-in-github",
        "colab_type": "text"
      },
      "source": [
        "<a href=\"https://colab.research.google.com/github/HeNeos/Mechanical/blob/master/Finite_Element_Analysis/Termic_deformation.ipynb\" target=\"_parent\"><img src=\"https://colab.research.google.com/assets/colab-badge.svg\" alt=\"Open In Colab\"/></a>"
      ]
    },
    {
      "cell_type": "code",
      "metadata": {
        "id": "sKXeEZC405dq",
        "colab_type": "code",
        "colab": {}
      },
      "source": [
        "import math\n",
        "import numpy as np\n",
        "import pandas as pd\n",
        "import matplotlib.pyplot as plt"
      ],
      "execution_count": 1,
      "outputs": []
    },
    {
      "cell_type": "markdown",
      "metadata": {
        "id": "HJuYyxNj05dy",
        "colab_type": "text"
      },
      "source": [
        "# Solving with Strassen and Conjugate Gradient optimized method"
      ]
    },
    {
      "cell_type": "code",
      "metadata": {
        "id": "JFRvQlAg05dz",
        "colab_type": "code",
        "colab": {}
      },
      "source": [
        "def NaiveMultiply(A,B):\n",
        "    C = np.zeros((A.shape[0],B.shape[1]))\n",
        "    for i in range(0,C.shape[0]):\n",
        "        for j in range(0,C.shape[1]):\n",
        "            aux = 0\n",
        "            for k in range(0,A.shape[1]):\n",
        "                aux += A[i][k]*B[k][j]\n",
        "            C[i][j] = aux\n",
        "    return C\n",
        "\n",
        "def nextPowerofTwo(n):\n",
        "    return int(2**(ceil(log2(n))))\n",
        "\n",
        "def ModifyMatrix(A):\n",
        "    newA = A\n",
        "    if(A.shape[1]%2 == 1):\n",
        "        aux = np.zeros((A.shape[0],A.shape[1]+1))\n",
        "        aux = np.insert(A,A.shape[1],0,axis=1)\n",
        "        newA = aux\n",
        "    if(newA.shape[0]%2 == 1):\n",
        "        aux = np.zeros((newA.shape[0]+1,newA.shape[1]))\n",
        "        aux = np.insert(newA,newA.shape[0],0,axis=0)\n",
        "        newA = aux\n",
        "    return newA\n",
        "\n",
        "def FastMultiply(oldA,oldB):\n",
        "    rows = oldA.shape[0]\n",
        "    columns = oldB.shape[1]\n",
        "    if(rows <= 2 or columns <=2 or oldA.shape[1] <= 2 or oldB.shape[0] <= 2):\n",
        "        return np.matmul(oldA,oldB)\n",
        "    \n",
        "    A = ModifyMatrix(oldA)\n",
        "    B = ModifyMatrix(oldB)\n",
        "    N1 = A.shape[0]\n",
        "    N2 = A.shape[1]\n",
        "    N3 = B.shape[0]\n",
        "    N4 = B.shape[1]\n",
        "    \n",
        "\n",
        "    a = A[0:N1//2,0:N2//2]\n",
        "    b = A[0:N1//2,N2//2:N2//2+N2//2]\n",
        "    c = A[N1//2:N1//2+N1//2,0:N2//2]\n",
        "    d = A[N1//2:N1//2+N1//2,N2//2:N2//2+N2//2]\n",
        "    \n",
        "    e = B[0:N3//2,0:N4//2]\n",
        "    f = B[0:N3//2,N4//2:N4//2+N4//2]\n",
        "    g = B[N3//2:N3//2+N3//2,0:N4//2]\n",
        "    h = B[N3//2:N3//2+N3//2,N4//2:N4//2+N4//2]\n",
        "    \n",
        "    \n",
        "    p1 = FastMultiply(a,(f-h))\n",
        "    p3 = FastMultiply((c+d),e)\n",
        "    p2 = FastMultiply((a+b),h)\n",
        "    p4 = FastMultiply(d,(g-e))\n",
        "    p5 = FastMultiply((a+d),(e+h))\n",
        "    p6 = FastMultiply((b-d),(g+h))\n",
        "    p7 = FastMultiply((a-c),(e+f))\n",
        "    \n",
        "    \n",
        "    C = np.zeros((rows,columns))\n",
        "    \n",
        "    c11 = p5 + p4 - p2 + p6\n",
        "    c12 = p1 + p2\n",
        "    c21 = p3 + p4\n",
        "    c22 = p1 + p5 - p3 - p7\n",
        "    \n",
        "\n",
        "    \n",
        "    for i in range(0,N1//2):\n",
        "        for j in range(0,N4//2):\n",
        "            C[i][j] = c11[i][j]\n",
        "            if(j + N4//2 < columns):\n",
        "                C[i][j+N4//2] = c12[i][j]\n",
        "            if(i + N1//2 < rows):\n",
        "                C[i+N1//2][j] = c21[i][j]\n",
        "                if(j + N4//2 < columns):\n",
        "                    C[i+N1//2][j+N4//2] = c22[i][j]\n",
        "    return C\n"
      ],
      "execution_count": 2,
      "outputs": []
    },
    {
      "cell_type": "markdown",
      "metadata": {
        "id": "FQSwDmWz05d6",
        "colab_type": "text"
      },
      "source": [
        "# Conjugate Gradient"
      ]
    },
    {
      "cell_type": "code",
      "metadata": {
        "id": "Ac50g14h05d7",
        "colab_type": "code",
        "colab": {}
      },
      "source": [
        "def conjugate_grad(A, b, x=None):\n",
        "    n = b.shape[0]\n",
        "    if not x:\n",
        "        x = np.ones((n,1))\n",
        "    r = np.dot(A, x) - b\n",
        "    p = - r\n",
        "    r_k_norm = FastMultiply(np.transpose(r), r)\n",
        "    for i in range(2*n):\n",
        "        Ap = np.dot(A, p)\n",
        "        \n",
        "        alpha = r_k_norm /FastMultiply(np.transpose(p), Ap)\n",
        "        x += alpha * p\n",
        "        r += alpha * Ap\n",
        "        r_kplus1_norm = FastMultiply(np.transpose(r), r)\n",
        "        beta = r_kplus1_norm / r_k_norm\n",
        "        r_k_norm = r_kplus1_norm\n",
        "        p = beta * p - r\n",
        "    return x"
      ],
      "execution_count": 3,
      "outputs": []
    },
    {
      "cell_type": "markdown",
      "metadata": {
        "id": "-FoQUFjc05eB",
        "colab_type": "text"
      },
      "source": [
        "# Solver "
      ]
    },
    {
      "cell_type": "code",
      "metadata": {
        "id": "10ShrROJ05eD",
        "colab_type": "code",
        "colab": {}
      },
      "source": [
        "NodesCondition = []\n",
        "ForcesCondition = []\n",
        "\n",
        "def UBoundaryCondition(nU,u,i):\n",
        "    nU[i][0] = u\n",
        "    NodesCondition.append(i)\n",
        "\n",
        "def FBoundaryCondition(nF,f,i):\n",
        "    nF[i][0] += f\n",
        "    ForcesCondition.append(i)\n",
        "    \n",
        "def AssemblyStiffness(nStiffnessMatrix,k,i,j):\n",
        "    nStiffnessMatrix[i][i] += k\n",
        "    nStiffnessMatrix[i][j] += -k\n",
        "    nStiffnessMatrix[j][i] += -k\n",
        "    nStiffnessMatrix[j][j] += k\n",
        "\n",
        "def Initialize(nStiffnessMatrix,nU,nF):\n",
        "    for i in range(0,Nodes):\n",
        "        nU[i][0] = 0\n",
        "        nF[i][0] = 0\n",
        "    for i in range(0,NumberOfElement):\n",
        "        AssemblyStiffness(nStiffnessMatrix,K[i][0],int(K[i][1]),int(K[i][2]))\n",
        "\n",
        "def PreSolvingStiffness(nStiffnessMatrix):\n",
        "    nsize = Nodes-len(NodesCondition)\n",
        "    newStiffness = np.zeros((nsize,nsize))\n",
        "    contr = -1\n",
        "    for i in range(0,Nodes):\n",
        "        contc = -1\n",
        "        flagr = False\n",
        "        for k in range(0,len(NodesCondition)):\n",
        "            if(i == NodesCondition[k]):\n",
        "                flagr = True\n",
        "                break\n",
        "        if(flagr):\n",
        "            continue\n",
        "        contr += 1\n",
        "        for j in range(0,Nodes):\n",
        "            flagc = False\n",
        "            for k in range(0,len(NodesCondition)):\n",
        "                if(j == NodesCondition[k]):\n",
        "                    flagc = True\n",
        "                    break\n",
        "            if(flagc):\n",
        "                continue\n",
        "            contc += 1\n",
        "            newStiffness[contr][contc] = nStiffnessMatrix[i][j]\n",
        "    return newStiffness\n",
        "\n",
        "\n",
        "def PreSolvingF(nF,nS,nU):\n",
        "    nsize = Nodes-len(NodesCondition)\n",
        "    newF = np.zeros(nsize).reshape(nsize,1)\n",
        "    contr = -1\n",
        "    for i in range(0,Nodes):\n",
        "        flagr = False\n",
        "        for k in range(0,len(NodesCondition)):\n",
        "            if(i == NodesCondition[k]):\n",
        "                flagr = True\n",
        "                break\n",
        "        if(flagr):\n",
        "            for k in range(0,Nodes):\n",
        "                nF[k][0] = nF[k][0]-nS[k][i]*nU[i][0]\n",
        "            continue\n",
        "\n",
        "            \n",
        "    for i in range(0,Nodes):\n",
        "        flagr = False\n",
        "        for k in range(0,len(NodesCondition)):\n",
        "            if(i == NodesCondition[k]):\n",
        "                flagr = True\n",
        "                break\n",
        "        if(flagr):\n",
        "            continue\n",
        "        contr += 1\n",
        "        newF[contr][0] = nF[i][0]\n",
        "    \n",
        "    return newF\n",
        "                      \n",
        "\n",
        "def Solve(nStiffnessMatrix,nU,nF):\n",
        "    newStiffness = PreSolvingStiffness(nStiffnessMatrix)\n",
        "    newF = PreSolvingF(nF,nStiffnessMatrix,nU)\n",
        "    u = conjugate_grad(newStiffness,newF)    \n",
        "    contr = -1\n",
        "    for i in range(0,Nodes):\n",
        "        flagr = False\n",
        "        for k in range(0,len(NodesCondition)):\n",
        "            if(i == NodesCondition[k]):\n",
        "                flagr = True\n",
        "                break\n",
        "        if(flagr):\n",
        "            continue\n",
        "        contr += 1\n",
        "        nU[i][0] = u[contr][0]\n",
        "    nnF = FastMultiply(StiffnessMatrix,nU)\n",
        "    return nU,nnF"
      ],
      "execution_count": 4,
      "outputs": []
    },
    {
      "cell_type": "markdown",
      "metadata": {
        "id": "zjOQqg3y05eI",
        "colab_type": "text"
      },
      "source": [
        "# Defining the problem"
      ]
    },
    {
      "cell_type": "code",
      "metadata": {
        "id": "mxfYsNM805eJ",
        "colab_type": "code",
        "colab": {}
      },
      "source": [
        "NodesCondition = []\n",
        "Nodes = 20\n",
        "Nodes = 2*Nodes+1\n",
        "E = 2*1e5 #MPA\n",
        "L = 1500 #mm\n",
        "b0 = 1000 #mm\n",
        "bf = 0 #mm\n",
        "e = 120 #mm\n",
        "P = 50000 #N\n",
        "K = []\n",
        "y = 0.0784532e-3 #N/mm3\n",
        "A = []\n",
        "alpha = 11e-6\n",
        "DeltaT = 85\n",
        "dL = L/(Nodes-1)\n",
        "\n",
        "for i in range(0,Nodes):\n",
        "    b = b0-i*((b0-bf)/(Nodes-1))\n",
        "    nb = b0-(i+1)*(b0-bf)/(Nodes-1)\n",
        "    A.append((b+nb)*e/2)\n",
        "for i in range(0,Nodes-1):\n",
        "    K.append([E*A[i]/(dL),i,i+1])\n",
        "\n",
        "NumberOfElement = len(K)\n",
        "\n",
        "StiffnessMatrix = np.zeros((Nodes,Nodes))\n",
        "U = np.zeros(Nodes).reshape(Nodes,1)\n",
        "F = np.zeros(Nodes).reshape(Nodes,1)\n",
        "\n",
        "Initialize(StiffnessMatrix,U,F)\n",
        "UBoundaryCondition(U,0,0)\n",
        "\n",
        "for i in range(1,Nodes):\n",
        "    W_T = E*(A[i-1])*alpha*DeltaT\n",
        "    W = y*0.5*(A[i]+A[i-1])*dL\n",
        "    if(i == 1):\n",
        "        W += y*0.5*(A[i-1])*dL\n",
        "    FBoundaryCondition(F,W+W_T,i)\n",
        "    FBoundaryCondition(F,-W_T,i-1)\n",
        "\n",
        "FBoundaryCondition(F,y*0.5*A[Nodes-1]*dL,Nodes-1)\n",
        "FBoundaryCondition(F,P,NumberOfElement//2)\n",
        "\n",
        "U,F=Solve(StiffnessMatrix,U,F)\n",
        "\n",
        "\n",
        "#print(\"Stiffness Matrix:\\n\",StiffnessMatrix,'\\n')\n",
        "#print(\"Displacements:\\n\",U,'\\n')\n",
        "#print(\"Forces:\\n\",F)"
      ],
      "execution_count": 5,
      "outputs": []
    },
    {
      "cell_type": "markdown",
      "metadata": {
        "id": "h1uTZpQ905eO",
        "colab_type": "text"
      },
      "source": [
        "# Visualizing the data"
      ]
    },
    {
      "cell_type": "code",
      "metadata": {
        "id": "Gs12INeR05eP",
        "colab_type": "code",
        "colab": {
          "base_uri": "https://localhost:8080/",
          "height": 362
        },
        "outputId": "99829659-d13c-4ee3-99a9-dae108df2894"
      },
      "source": [
        "plt.figure(figsize=(10,5))\n",
        "plt.xlabel(\"Nodo\")\n",
        "plt.ylabel(\"Fuerza (N)\")\n",
        "plt.plot(F,'-bo')\n",
        "#plt.show()\n",
        "#plt.savefig(\"forze20.pdf\")"
      ],
      "execution_count": 6,
      "outputs": [
        {
          "output_type": "execute_result",
          "data": {
            "text/plain": [
              "[<matplotlib.lines.Line2D at 0x7f14ca4bebe0>]"
            ]
          },
          "metadata": {
            "tags": []
          },
          "execution_count": 6
        },
        {
          "output_type": "display_data",
          "data": {
            "image/png": "[encoded data removed]",
            "text/plain": [
              "<Figure size 720x360 with 1 Axes>"
            ]
          },
          "metadata": {
            "tags": [],
            "needs_background": "light"
          }
        }
      ]
    },
    {
      "cell_type": "code",
      "metadata": {
        "id": "VkxgMVdy05eV",
        "colab_type": "code",
        "colab": {
          "base_uri": "https://localhost:8080/",
          "height": 352
        },
        "outputId": "db7d1b5b-042d-4a8c-a508-101a71892b14"
      },
      "source": [
        "plt.figure(figsize=(10,5))\n",
        "plt.xlabel(\"Nodo\")\n",
        "plt.ylabel(\"Desplazamiento\")\n",
        "plt.plot(U,'-bo')\n",
        "#plt.show()\n",
        "#plt.savefig(\"def30.pdf\")"
      ],
      "execution_count": 7,
      "outputs": [
        {
          "output_type": "execute_result",
          "data": {
            "text/plain": [
              "[<matplotlib.lines.Line2D at 0x7f14ca4698d0>]"
            ]
          },
          "metadata": {
            "tags": []
          },
          "execution_count": 7
        },
        {
          "output_type": "display_data",
          "data": {
            "image/png": "[encoded data removed]",
            "text/plain": [
              "<Figure size 720x360 with 1 Axes>"
            ]
          },
          "metadata": {
            "tags": [],
            "needs_background": "light"
          }
        }
      ]
    },
    {
      "cell_type": "code",
      "metadata": {
        "id": "aEDpqrYB05eb",
        "colab_type": "code",
        "colab": {
          "base_uri": "https://localhost:8080/",
          "height": 1000
        },
        "outputId": "6efc5ef4-a09e-4d15-f350-533f5b8243ea"
      },
      "source": [
        "Displacements_data =  pd.DataFrame(data=U, columns=[\"Desplazamientos\"])\n",
        "Forces_data = pd.DataFrame(data=F, columns=[\"Fuerzas\"])\n",
        "Displacements_data.join(Forces_data)"
      ],
      "execution_count": 8,
      "outputs": [
        {
          "output_type": "execute_result",
          "data": {
            "text/html": [
              "<div>\n",
              "<style scoped>\n",
              "    .dataframe tbody tr th:only-of-type {\n",
              "        vertical-align: middle;\n",
              "    }\n",
              "\n",
              "    .dataframe tbody tr th {\n",
              "        vertical-align: top;\n",
              "    }\n",
              "\n",
              "    .dataframe thead th {\n",
              "        text-align: right;\n",
              "    }\n",
              "</style>\n",
              "<table border=\"1\" class=\"dataframe\">\n",
              "  <thead>\n",
              "    <tr style=\"text-align: right;\">\n",
              "      <th></th>\n",
              "      <th>Desplazamientos</th>\n",
              "      <th>Fuerzas</th>\n",
              "    </tr>\n",
              "  </thead>\n",
              "  <tbody>\n",
              "    <tr>\n",
              "      <th>0</th>\n",
              "      <td>0.000000</td>\n",
              "      <td>-2.221656e+07</td>\n",
              "    </tr>\n",
              "    <tr>\n",
              "      <th>1</th>\n",
              "      <td>0.035153</td>\n",
              "      <td>5.615185e+05</td>\n",
              "    </tr>\n",
              "    <tr>\n",
              "      <th>2</th>\n",
              "      <td>0.070307</td>\n",
              "      <td>5.613354e+05</td>\n",
              "    </tr>\n",
              "    <tr>\n",
              "      <th>3</th>\n",
              "      <td>0.105463</td>\n",
              "      <td>5.613266e+05</td>\n",
              "    </tr>\n",
              "    <tr>\n",
              "      <th>4</th>\n",
              "      <td>0.140621</td>\n",
              "      <td>5.613177e+05</td>\n",
              "    </tr>\n",
              "    <tr>\n",
              "      <th>5</th>\n",
              "      <td>0.175782</td>\n",
              "      <td>5.613089e+05</td>\n",
              "    </tr>\n",
              "    <tr>\n",
              "      <th>6</th>\n",
              "      <td>0.210944</td>\n",
              "      <td>5.613001e+05</td>\n",
              "    </tr>\n",
              "    <tr>\n",
              "      <th>7</th>\n",
              "      <td>0.246109</td>\n",
              "      <td>5.612913e+05</td>\n",
              "    </tr>\n",
              "    <tr>\n",
              "      <th>8</th>\n",
              "      <td>0.281277</td>\n",
              "      <td>5.612824e+05</td>\n",
              "    </tr>\n",
              "    <tr>\n",
              "      <th>9</th>\n",
              "      <td>0.316447</td>\n",
              "      <td>5.612736e+05</td>\n",
              "    </tr>\n",
              "    <tr>\n",
              "      <th>10</th>\n",
              "      <td>0.351621</td>\n",
              "      <td>5.612648e+05</td>\n",
              "    </tr>\n",
              "    <tr>\n",
              "      <th>11</th>\n",
              "      <td>0.386797</td>\n",
              "      <td>5.612560e+05</td>\n",
              "    </tr>\n",
              "    <tr>\n",
              "      <th>12</th>\n",
              "      <td>0.421977</td>\n",
              "      <td>5.612471e+05</td>\n",
              "    </tr>\n",
              "    <tr>\n",
              "      <th>13</th>\n",
              "      <td>0.457161</td>\n",
              "      <td>5.612383e+05</td>\n",
              "    </tr>\n",
              "    <tr>\n",
              "      <th>14</th>\n",
              "      <td>0.492349</td>\n",
              "      <td>5.612295e+05</td>\n",
              "    </tr>\n",
              "    <tr>\n",
              "      <th>15</th>\n",
              "      <td>0.527541</td>\n",
              "      <td>5.612206e+05</td>\n",
              "    </tr>\n",
              "    <tr>\n",
              "      <th>16</th>\n",
              "      <td>0.562738</td>\n",
              "      <td>5.612118e+05</td>\n",
              "    </tr>\n",
              "    <tr>\n",
              "      <th>17</th>\n",
              "      <td>0.597940</td>\n",
              "      <td>5.612030e+05</td>\n",
              "    </tr>\n",
              "    <tr>\n",
              "      <th>18</th>\n",
              "      <td>0.633147</td>\n",
              "      <td>5.611942e+05</td>\n",
              "    </tr>\n",
              "    <tr>\n",
              "      <th>19</th>\n",
              "      <td>0.668361</td>\n",
              "      <td>5.611853e+05</td>\n",
              "    </tr>\n",
              "    <tr>\n",
              "      <th>20</th>\n",
              "      <td>0.703581</td>\n",
              "      <td>6.111765e+05</td>\n",
              "    </tr>\n",
              "    <tr>\n",
              "      <th>21</th>\n",
              "      <td>0.738649</td>\n",
              "      <td>5.611677e+05</td>\n",
              "    </tr>\n",
              "    <tr>\n",
              "      <th>22</th>\n",
              "      <td>0.773717</td>\n",
              "      <td>5.611589e+05</td>\n",
              "    </tr>\n",
              "    <tr>\n",
              "      <th>23</th>\n",
              "      <td>0.808784</td>\n",
              "      <td>5.611500e+05</td>\n",
              "    </tr>\n",
              "    <tr>\n",
              "      <th>24</th>\n",
              "      <td>0.843851</td>\n",
              "      <td>5.611412e+05</td>\n",
              "    </tr>\n",
              "    <tr>\n",
              "      <th>25</th>\n",
              "      <td>0.878918</td>\n",
              "      <td>5.611324e+05</td>\n",
              "    </tr>\n",
              "    <tr>\n",
              "      <th>26</th>\n",
              "      <td>0.913985</td>\n",
              "      <td>5.611236e+05</td>\n",
              "    </tr>\n",
              "    <tr>\n",
              "      <th>27</th>\n",
              "      <td>0.949051</td>\n",
              "      <td>5.611147e+05</td>\n",
              "    </tr>\n",
              "    <tr>\n",
              "      <th>28</th>\n",
              "      <td>0.984117</td>\n",
              "      <td>5.611059e+05</td>\n",
              "    </tr>\n",
              "    <tr>\n",
              "      <th>29</th>\n",
              "      <td>1.019182</td>\n",
              "      <td>5.610971e+05</td>\n",
              "    </tr>\n",
              "    <tr>\n",
              "      <th>30</th>\n",
              "      <td>1.054248</td>\n",
              "      <td>5.610883e+05</td>\n",
              "    </tr>\n",
              "    <tr>\n",
              "      <th>31</th>\n",
              "      <td>1.089313</td>\n",
              "      <td>5.610794e+05</td>\n",
              "    </tr>\n",
              "    <tr>\n",
              "      <th>32</th>\n",
              "      <td>1.124378</td>\n",
              "      <td>5.610706e+05</td>\n",
              "    </tr>\n",
              "    <tr>\n",
              "      <th>33</th>\n",
              "      <td>1.159442</td>\n",
              "      <td>5.610618e+05</td>\n",
              "    </tr>\n",
              "    <tr>\n",
              "      <th>34</th>\n",
              "      <td>1.194506</td>\n",
              "      <td>5.610530e+05</td>\n",
              "    </tr>\n",
              "    <tr>\n",
              "      <th>35</th>\n",
              "      <td>1.229570</td>\n",
              "      <td>5.610441e+05</td>\n",
              "    </tr>\n",
              "    <tr>\n",
              "      <th>36</th>\n",
              "      <td>1.264634</td>\n",
              "      <td>5.610353e+05</td>\n",
              "    </tr>\n",
              "    <tr>\n",
              "      <th>37</th>\n",
              "      <td>1.299697</td>\n",
              "      <td>5.610265e+05</td>\n",
              "    </tr>\n",
              "    <tr>\n",
              "      <th>38</th>\n",
              "      <td>1.334761</td>\n",
              "      <td>5.610177e+05</td>\n",
              "    </tr>\n",
              "    <tr>\n",
              "      <th>39</th>\n",
              "      <td>1.369823</td>\n",
              "      <td>5.610088e+05</td>\n",
              "    </tr>\n",
              "    <tr>\n",
              "      <th>40</th>\n",
              "      <td>1.404886</td>\n",
              "      <td>2.804978e+05</td>\n",
              "    </tr>\n",
              "  </tbody>\n",
              "</table>\n",
              "</div>"
            ],
            "text/plain": [
              "    Desplazamientos       Fuerzas\n",
              "0          0.000000 -2.221656e+07\n",
              "1          0.035153  5.615185e+05\n",
              "2          0.070307  5.613354e+05\n",
              "3          0.105463  5.613266e+05\n",
              "4          0.140621  5.613177e+05\n",
              "5          0.175782  5.613089e+05\n",
              "6          0.210944  5.613001e+05\n",
              "7          0.246109  5.612913e+05\n",
              "8          0.281277  5.612824e+05\n",
              "9          0.316447  5.612736e+05\n",
              "10         0.351621  5.612648e+05\n",
              "11         0.386797  5.612560e+05\n",
              "12         0.421977  5.612471e+05\n",
              "13         0.457161  5.612383e+05\n",
              "14         0.492349  5.612295e+05\n",
              "15         0.527541  5.612206e+05\n",
              "16         0.562738  5.612118e+05\n",
              "17         0.597940  5.612030e+05\n",
              "18         0.633147  5.611942e+05\n",
              "19         0.668361  5.611853e+05\n",
              "20         0.703581  6.111765e+05\n",
              "21         0.738649  5.611677e+05\n",
              "22         0.773717  5.611589e+05\n",
              "23         0.808784  5.611500e+05\n",
              "24         0.843851  5.611412e+05\n",
              "25         0.878918  5.611324e+05\n",
              "26         0.913985  5.611236e+05\n",
              "27         0.949051  5.611147e+05\n",
              "28         0.984117  5.611059e+05\n",
              "29         1.019182  5.610971e+05\n",
              "30         1.054248  5.610883e+05\n",
              "31         1.089313  5.610794e+05\n",
              "32         1.124378  5.610706e+05\n",
              "33         1.159442  5.610618e+05\n",
              "34         1.194506  5.610530e+05\n",
              "35         1.229570  5.610441e+05\n",
              "36         1.264634  5.610353e+05\n",
              "37         1.299697  5.610265e+05\n",
              "38         1.334761  5.610177e+05\n",
              "39         1.369823  5.610088e+05\n",
              "40         1.404886  2.804978e+05"
            ]
          },
          "metadata": {
            "tags": []
          },
          "execution_count": 8
        }
      ]
    },
    {
      "cell_type": "code",
      "metadata": {
        "id": "Q0kw1_w205ef",
        "colab_type": "code",
        "colab": {
          "base_uri": "https://localhost:8080/",
          "height": 745
        },
        "outputId": "a37c40b3-8b9b-4e20-a4af-3d5eff3c5899"
      },
      "source": [
        "nU = []\n",
        "nE = []\n",
        "nstrain = []\n",
        "sigma = []\n",
        "strain = []\n",
        "defor = []\n",
        "\n",
        "dL = (L)/(Nodes-1)\n",
        "\n",
        "for i in range(0,len(U)-1):\n",
        "    strain.append(-U[i][0]/(dL)+U[i+1][0]/(dL))\n",
        "    defor.append(strain[i]*dL)\n",
        "    sigma.append(strain[i]*E-1*E*alpha*DeltaT)\n",
        "    #print(strain[i],sigma[i],1.6*E*alpha*DeltaT)\n",
        "\n",
        "print(\"Esfuerzos (MPa):\\n\",np.array(sigma).reshape((Nodes-1,1)))"
      ],
      "execution_count": 9,
      "outputs": [
        {
          "output_type": "stream",
          "text": [
            "Esfuerzos (MPa):\n",
            " [[ 0.4814884 ]\n",
            " [ 0.48950518]\n",
            " [ 0.49957743]\n",
            " [ 0.51028219]\n",
            " [ 0.5216729 ]\n",
            " [ 0.53380922]\n",
            " [ 0.54675792]\n",
            " [ 0.56059399]\n",
            " [ 0.57540193]\n",
            " [ 0.59127734]\n",
            " [ 0.60832878]\n",
            " [ 0.62668004]\n",
            " [ 0.64647292]\n",
            " [ 0.66787062]\n",
            " [ 0.69106194]\n",
            " [ 0.71626652]\n",
            " [ 0.74374135]\n",
            " [ 0.77378915]\n",
            " [ 0.80676893]\n",
            " [ 0.84310976]\n",
            " [ 0.02862787]\n",
            " [ 0.02715382]\n",
            " [ 0.02567941]\n",
            " [ 0.0242046 ]\n",
            " [ 0.02272928]\n",
            " [ 0.02125338]\n",
            " [ 0.01977674]\n",
            " [ 0.01829921]\n",
            " [ 0.01682054]\n",
            " [ 0.0153404 ]\n",
            " [ 0.01385834]\n",
            " [ 0.01237368]\n",
            " [ 0.01088538]\n",
            " [ 0.00939175]\n",
            " [ 0.0078899 ]\n",
            " [ 0.00637432]\n",
            " [ 0.00483328]\n",
            " [ 0.00323619]\n",
            " [ 0.001471  ]\n",
            " [-0.001471  ]]\n"
          ],
          "name": "stdout"
        }
      ]
    },
    {
      "cell_type": "code",
      "metadata": {
        "id": "4b2GUxfL05ej",
        "colab_type": "code",
        "colab": {}
      },
      "source": [
        "heatmap = np.zeros(((Nodes-1),(Nodes-1)))\n",
        "for i in range(0,Nodes-1):\n",
        "    for j in range(0,Nodes-1):\n",
        "        if(2*j>=i-1 and 2*(Nodes-1)-2*j-1 >= i):\n",
        "            heatmap[i][j] = 1e3*sigma[i]\n",
        "        else:\n",
        "            heatmap[i][j] = -6e1"
      ],
      "execution_count": 10,
      "outputs": []
    },
    {
      "cell_type": "code",
      "metadata": {
        "id": "5O21TPhi05en",
        "colab_type": "code",
        "colab": {
          "base_uri": "https://localhost:8080/",
          "height": 1000
        },
        "outputId": "bd67eef4-ca5d-4083-c79a-54899fd27c18"
      },
      "source": [
        "plt.figure(figsize=(8,8))\n",
        "plt.grid(False)\n",
        "plt.axes().xaxis.set_visible(False)\n",
        "plt.axes().yaxis.set_visible(False)\n",
        "plt.imshow(heatmap,cmap='gnuplot2',interpolation='nearest')\n",
        "plt.colorbar().set_label('  kPa',rotation=0)\n",
        "#plt.savefig(\"21.pdf\")\n",
        "#plt.show()\n",
        "\n",
        "plt.figure(figsize=(8,8))\n",
        "plt.grid(False)\n",
        "plt.axes().xaxis.set_visible(False)\n",
        "plt.axes().yaxis.set_visible(False)\n",
        "plt.imshow(heatmap,cmap='jet',interpolation='nearest')\n",
        "plt.colorbar().set_label('   kPa',rotation=0)\n",
        "#plt.savefig(\"21.pdf\")\n",
        "#plt.show()\n"
      ],
      "execution_count": 11,
      "outputs": [
        {
          "output_type": "stream",
          "text": [
            "/usr/local/lib/python3.6/dist-packages/ipykernel_launcher.py:3: MatplotlibDeprecationWarning: Adding an axes using the same arguments as a previous axes currently reuses the earlier instance.  In a future version, a new instance will always be created and returned.  Meanwhile, this warning can be suppressed, and the future behavior ensured, by passing a unique label to each axes instance.\n",
            "  This is separate from the ipykernel package so we can avoid doing imports until\n",
            "/usr/local/lib/python3.6/dist-packages/ipykernel_launcher.py:4: MatplotlibDeprecationWarning: Adding an axes using the same arguments as a previous axes currently reuses the earlier instance.  In a future version, a new instance will always be created and returned.  Meanwhile, this warning can be suppressed, and the future behavior ensured, by passing a unique label to each axes instance.\n",
            "  after removing the cwd from sys.path.\n",
            "/usr/local/lib/python3.6/dist-packages/ipykernel_launcher.py:12: MatplotlibDeprecationWarning: Adding an axes using the same arguments as a previous axes currently reuses the earlier instance.  In a future version, a new instance will always be created and returned.  Meanwhile, this warning can be suppressed, and the future behavior ensured, by passing a unique label to each axes instance.\n",
            "  if sys.path[0] == '':\n",
            "/usr/local/lib/python3.6/dist-packages/ipykernel_launcher.py:13: MatplotlibDeprecationWarning: Adding an axes using the same arguments as a previous axes currently reuses the earlier instance.  In a future version, a new instance will always be created and returned.  Meanwhile, this warning can be suppressed, and the future behavior ensured, by passing a unique label to each axes instance.\n",
            "  del sys.path[0]\n"
          ],
          "name": "stderr"
        },
        {
          "output_type": "display_data",
          "data": {
            "image/png": "[encoded data removed]",
            "text/plain": [
              "<Figure size 576x576 with 2 Axes>"
            ]
          },
          "metadata": {
            "tags": [],
            "needs_background": "light"
          }
        },
        {
          "output_type": "display_data",
          "data": {
            "image/png": "[encoded data removed]",
            "text/plain": [
              "<Figure size 576x576 with 2 Axes>"
            ]
          },
          "metadata": {
            "tags": [],
            "needs_background": "light"
          }
        }
      ]
    },
    {
      "cell_type": "code",
      "metadata": {
        "id": "C7En8mTd05et",
        "colab_type": "code",
        "colab": {}
      },
      "source": [
        "hdefor = np.zeros((U.shape[0]-1,U.shape[0]-1))\n",
        "for i in range(0,U.shape[0]-1):\n",
        "    for j in range(0,U.shape[0]-1):\n",
        "        if(2*j>=i-1 and 2*U.shape[0]-2*j-1-2 >= i):\n",
        "            hdefor[i][j] = U[i][0]\n",
        "        else:\n",
        "            hdefor[i][j] = 0"
      ],
      "execution_count": 12,
      "outputs": []
    },
    {
      "cell_type": "code",
      "metadata": {
        "id": "tocXGHL_05ex",
        "colab_type": "code",
        "colab": {
          "base_uri": "https://localhost:8080/",
          "height": 1000
        },
        "outputId": "5cc219e7-fd6e-4028-909a-26ea3cb3c2ba"
      },
      "source": [
        "plt.figure(figsize=(8,8))\n",
        "plt.grid(False)\n",
        "plt.axes().xaxis.set_visible(False)\n",
        "plt.axes().yaxis.set_visible(False)\n",
        "plt.imshow(hdefor,cmap='gnuplot2',interpolation='nearest')\n",
        "plt.colorbar().set_label('       mm',rotation=0)\n",
        "#plt.savefig(\"22.pdf\")\n",
        "#plt.show()\n",
        "\n",
        "plt.figure(figsize=(8,8))\n",
        "plt.grid(False)\n",
        "plt.axes().xaxis.set_visible(False)\n",
        "plt.axes().yaxis.set_visible(False)\n",
        "plt.imshow(hdefor,cmap='jet',interpolation='nearest')\n",
        "plt.colorbar().set_label('       mm',rotation=0)\n",
        "#plt.savefig(\"gg.pdf\")\n",
        "#plt.show()\n"
      ],
      "execution_count": 13,
      "outputs": [
        {
          "output_type": "stream",
          "text": [
            "/usr/local/lib/python3.6/dist-packages/ipykernel_launcher.py:3: MatplotlibDeprecationWarning: Adding an axes using the same arguments as a previous axes currently reuses the earlier instance.  In a future version, a new instance will always be created and returned.  Meanwhile, this warning can be suppressed, and the future behavior ensured, by passing a unique label to each axes instance.\n",
            "  This is separate from the ipykernel package so we can avoid doing imports until\n",
            "/usr/local/lib/python3.6/dist-packages/ipykernel_launcher.py:4: MatplotlibDeprecationWarning: Adding an axes using the same arguments as a previous axes currently reuses the earlier instance.  In a future version, a new instance will always be created and returned.  Meanwhile, this warning can be suppressed, and the future behavior ensured, by passing a unique label to each axes instance.\n",
            "  after removing the cwd from sys.path.\n",
            "/usr/local/lib/python3.6/dist-packages/ipykernel_launcher.py:12: MatplotlibDeprecationWarning: Adding an axes using the same arguments as a previous axes currently reuses the earlier instance.  In a future version, a new instance will always be created and returned.  Meanwhile, this warning can be suppressed, and the future behavior ensured, by passing a unique label to each axes instance.\n",
            "  if sys.path[0] == '':\n",
            "/usr/local/lib/python3.6/dist-packages/ipykernel_launcher.py:13: MatplotlibDeprecationWarning: Adding an axes using the same arguments as a previous axes currently reuses the earlier instance.  In a future version, a new instance will always be created and returned.  Meanwhile, this warning can be suppressed, and the future behavior ensured, by passing a unique label to each axes instance.\n",
            "  del sys.path[0]\n"
          ],
          "name": "stderr"
        },
        {
          "output_type": "display_data",
          "data": {
            "image/png": "[encoded data removed]",
            "text/plain": [
              "<Figure size 576x576 with 2 Axes>"
            ]
          },
          "metadata": {
            "tags": [],
            "needs_background": "light"
          }
        },
        {
          "output_type": "display_data",
          "data": {
            "image/png": "[encoded data removed]",
            "text/plain": [
              "<Figure size 576x576 with 2 Axes>"
            ]
          },
          "metadata": {
            "tags": [],
            "needs_background": "light"
          }
        }
      ]
    }
  ]
}