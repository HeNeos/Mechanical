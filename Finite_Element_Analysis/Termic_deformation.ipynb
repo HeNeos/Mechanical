{
  "nbformat": 4,
  "nbformat_minor": 0,
  "metadata": {
    "kernelspec": {
      "display_name": "Python 3",
      "language": "python",
      "name": "python3"
    },
    "language_info": {
      "codemirror_mode": {
        "name": "ipython",
        "version": 3
      },
      "file_extension": ".py",
      "mimetype": "text/x-python",
      "name": "python",
      "nbconvert_exporter": "python",
      "pygments_lexer": "ipython3",
      "version": "3.7.6"
    },
    "latex_envs": {
      "LaTeX_envs_menu_present": true,
      "autoclose": true,
      "autocomplete": true,
      "bibliofile": "biblio.bib",
      "cite_by": "apalike",
      "current_citInitial": 1,
      "eqLabelWithNumbers": true,
      "eqNumInitial": 1,
      "hotkeys": {
        "equation": "Ctrl-E",
        "itemize": "Ctrl-I"
      },
      "labels_anchors": false,
      "latex_user_defs": false,
      "report_style_numbering": false,
      "user_envs_cfg": false
    },
    "colab": {
      "name": "Termic_deformation.ipynb",
      "provenance": [],
      "collapsed_sections": [],
      "include_colab_link": true
    }
  },
  "cells": [
    {
      "cell_type": "markdown",
      "metadata": {
        "id": "view-in-github",
        "colab_type": "text"
      },
      "source": [
        "<a href=\"https://colab.research.google.com/github/HeNeos/Mechanical/blob/master/Finite_Element_Analysis/Termic_deformation.ipynb\" target=\"_parent\"><img src=\"https://colab.research.google.com/assets/colab-badge.svg\" alt=\"Open In Colab\"/></a>"
      ]
    },
    {
      "cell_type": "code",
      "metadata": {
        "id": "sKXeEZC405dq",
        "colab_type": "code",
        "colab": {}
      },
      "source": [
        "import math\n",
        "import numpy as np\n",
        "import pandas as pd\n",
        "import matplotlib.pyplot as plt"
      ],
      "execution_count": 1,
      "outputs": []
    },
    {
      "cell_type": "markdown",
      "metadata": {
        "id": "HJuYyxNj05dy",
        "colab_type": "text"
      },
      "source": [
        "# Solving with Strassen and Conjugate Gradient optimized method"
      ]
    },
    {
      "cell_type": "code",
      "metadata": {
        "id": "JFRvQlAg05dz",
        "colab_type": "code",
        "colab": {}
      },
      "source": [
        "def NaiveMultiply(A,B):\n",
        "    C = np.zeros((A.shape[0],B.shape[1]))\n",
        "    for i in range(0,C.shape[0]):\n",
        "        for j in range(0,C.shape[1]):\n",
        "            aux = 0\n",
        "            for k in range(0,A.shape[1]):\n",
        "                aux += A[i][k]*B[k][j]\n",
        "            C[i][j] = aux\n",
        "    return C\n",
        " \n",
        "def nextPowerofTwo(n):\n",
        "    return int(2**(ceil(log2(n))))\n",
        " \n",
        "def ModifyMatrix(A):\n",
        "    newA = A\n",
        "    if(A.shape[1]%2 == 1):\n",
        "        aux = np.zeros((A.shape[0],A.shape[1]+1))\n",
        "        aux = np.insert(A,A.shape[1],0,axis=1)\n",
        "        newA = aux\n",
        "    if(newA.shape[0]%2 == 1):\n",
        "        aux = np.zeros((newA.shape[0]+1,newA.shape[1]))\n",
        "        aux = np.insert(newA,newA.shape[0],0,axis=0)\n",
        "        newA = aux\n",
        "    return newA\n",
        " \n",
        "def FastMultiply(oldA,oldB):\n",
        "    rows = oldA.shape[0]\n",
        "    columns = oldB.shape[1]\n",
        "    if(rows <= 2 or columns <=2 or oldA.shape[1] <= 2 or oldB.shape[0] <= 2):\n",
        "        return np.matmul(oldA,oldB)\n",
        "    \n",
        "    A = ModifyMatrix(oldA)\n",
        "    B = ModifyMatrix(oldB)\n",
        "    N1 = A.shape[0]\n",
        "    N2 = A.shape[1]\n",
        "    N3 = B.shape[0]\n",
        "    N4 = B.shape[1]\n",
        "    \n",
        " \n",
        "    a = A[0:N1//2,0:N2//2]\n",
        "    b = A[0:N1//2,N2//2:N2//2+N2//2]\n",
        "    c = A[N1//2:N1//2+N1//2,0:N2//2]\n",
        "    d = A[N1//2:N1//2+N1//2,N2//2:N2//2+N2//2]\n",
        "    \n",
        "    e = B[0:N3//2,0:N4//2]\n",
        "    f = B[0:N3//2,N4//2:N4//2+N4//2]\n",
        "    g = B[N3//2:N3//2+N3//2,0:N4//2]\n",
        "    h = B[N3//2:N3//2+N3//2,N4//2:N4//2+N4//2]\n",
        "    \n",
        "    \n",
        "    p1 = FastMultiply(a,(f-h))\n",
        "    p3 = FastMultiply((c+d),e)\n",
        "    p2 = FastMultiply((a+b),h)\n",
        "    p4 = FastMultiply(d,(g-e))\n",
        "    p5 = FastMultiply((a+d),(e+h))\n",
        "    p6 = FastMultiply((b-d),(g+h))\n",
        "    p7 = FastMultiply((a-c),(e+f))\n",
        "    \n",
        "    \n",
        "    C = np.zeros((rows,columns))\n",
        "    \n",
        "    c11 = p5 + p4 - p2 + p6\n",
        "    c12 = p1 + p2\n",
        "    c21 = p3 + p4\n",
        "    c22 = p1 + p5 - p3 - p7\n",
        "    \n",
        " \n",
        "    \n",
        "    for i in range(0,N1//2):\n",
        "        for j in range(0,N4//2):\n",
        "            C[i][j] = c11[i][j]\n",
        "            if(j + N4//2 < columns):\n",
        "                C[i][j+N4//2] = c12[i][j]\n",
        "            if(i + N1//2 < rows):\n",
        "                C[i+N1//2][j] = c21[i][j]\n",
        "                if(j + N4//2 < columns):\n",
        "                    C[i+N1//2][j+N4//2] = c22[i][j]\n",
        "    return C"
      ],
      "execution_count": 2,
      "outputs": []
    },
    {
      "cell_type": "markdown",
      "metadata": {
        "id": "FQSwDmWz05d6",
        "colab_type": "text"
      },
      "source": [
        "# Conjugate Gradient"
      ]
    },
    {
      "cell_type": "code",
      "metadata": {
        "id": "Ac50g14h05d7",
        "colab_type": "code",
        "colab": {}
      },
      "source": [
        "def conjugate_grad(A, b, x=None):\n",
        "    n = b.shape[0]\n",
        "    if not x:\n",
        "        x = np.ones((n,1))\n",
        "    r = np.dot(A, x) - b\n",
        "    p = - r\n",
        "    r_k_norm = FastMultiply(np.transpose(r), r)\n",
        "    for i in range(2*n):\n",
        "        Ap = np.dot(A, p)\n",
        "        \n",
        "        alpha = r_k_norm /FastMultiply(np.transpose(p), Ap)\n",
        "        x += alpha * p\n",
        "        r += alpha * Ap\n",
        "        r_kplus1_norm = FastMultiply(np.transpose(r), r)\n",
        "        beta = r_kplus1_norm / r_k_norm\n",
        "        r_k_norm = r_kplus1_norm\n",
        "        p = beta * p - r\n",
        "    return x"
      ],
      "execution_count": 3,
      "outputs": []
    },
    {
      "cell_type": "markdown",
      "metadata": {
        "id": "-FoQUFjc05eB",
        "colab_type": "text"
      },
      "source": [
        "# Solver "
      ]
    },
    {
      "cell_type": "code",
      "metadata": {
        "id": "10ShrROJ05eD",
        "colab_type": "code",
        "colab": {}
      },
      "source": [
        "NodesCondition = []\n",
        "ForcesCondition = []\n",
        " \n",
        "def UBoundaryCondition(nU,u,i):\n",
        "    nU[i][0] = u\n",
        "    NodesCondition.append(i)\n",
        " \n",
        "def FBoundaryCondition(nF,f,i):\n",
        "    nF[i][0] += f\n",
        "    ForcesCondition.append(i)\n",
        "    \n",
        "def AssemblyStiffness(nStiffnessMatrix,k,i,j):\n",
        "    nStiffnessMatrix[i][i] += k\n",
        "    nStiffnessMatrix[i][j] += -k\n",
        "    nStiffnessMatrix[j][i] += -k\n",
        "    nStiffnessMatrix[j][j] += k\n",
        " \n",
        "def Initialize(nStiffnessMatrix,nU,nF):\n",
        "    for i in range(0,Nodes):\n",
        "        nU[i][0] = 0\n",
        "        nF[i][0] = 0\n",
        "    for i in range(0,NumberOfElement):\n",
        "        AssemblyStiffness(nStiffnessMatrix,K[i][0],int(K[i][1]),int(K[i][2]))\n",
        " \n",
        "def PreSolvingStiffness(nStiffnessMatrix):\n",
        "    nsize = Nodes-len(NodesCondition)\n",
        "    newStiffness = np.zeros((nsize,nsize))\n",
        "    contr = -1\n",
        "    for i in range(0,Nodes):\n",
        "        contc = -1\n",
        "        flagr = False\n",
        "        for k in range(0,len(NodesCondition)):\n",
        "            if(i == NodesCondition[k]):\n",
        "                flagr = True\n",
        "                break\n",
        "        if(flagr):\n",
        "            continue\n",
        "        contr += 1\n",
        "        for j in range(0,Nodes):\n",
        "            flagc = False\n",
        "            for k in range(0,len(NodesCondition)):\n",
        "                if(j == NodesCondition[k]):\n",
        "                    flagc = True\n",
        "                    break\n",
        "            if(flagc):\n",
        "                continue\n",
        "            contc += 1\n",
        "            newStiffness[contr][contc] = nStiffnessMatrix[i][j]\n",
        "    return newStiffness\n",
        " \n",
        " \n",
        "def PreSolvingF(nF,nS,nU):\n",
        "    nsize = Nodes-len(NodesCondition)\n",
        "    newF = np.zeros(nsize).reshape(nsize,1)\n",
        "    contr = -1\n",
        "    for i in range(0,Nodes):\n",
        "        flagr = False\n",
        "        for k in range(0,len(NodesCondition)):\n",
        "            if(i == NodesCondition[k]):\n",
        "                flagr = True\n",
        "                break\n",
        "        if(flagr):\n",
        "            for k in range(0,Nodes):\n",
        "                nF[k][0] = nF[k][0]-nS[k][i]*nU[i][0]\n",
        "            continue\n",
        " \n",
        "            \n",
        "    for i in range(0,Nodes):\n",
        "        flagr = False\n",
        "        for k in range(0,len(NodesCondition)):\n",
        "            if(i == NodesCondition[k]):\n",
        "                flagr = True\n",
        "                break\n",
        "        if(flagr):\n",
        "            continue\n",
        "        contr += 1\n",
        "        newF[contr][0] = nF[i][0]\n",
        "    \n",
        "    return newF\n",
        "                      \n",
        " \n",
        "def Solve(nStiffnessMatrix,nU,nF):\n",
        "    newStiffness = PreSolvingStiffness(nStiffnessMatrix)\n",
        "    newF = PreSolvingF(nF,nStiffnessMatrix,nU)\n",
        "    u = conjugate_grad(newStiffness,newF)    \n",
        "    contr = -1\n",
        "    for i in range(0,Nodes):\n",
        "        flagr = False\n",
        "        for k in range(0,len(NodesCondition)):\n",
        "            if(i == NodesCondition[k]):\n",
        "                flagr = True\n",
        "                break\n",
        "        if(flagr):\n",
        "            continue\n",
        "        contr += 1\n",
        "        nU[i][0] = u[contr][0]\n",
        "    nnF = FastMultiply(StiffnessMatrix,nU)\n",
        "    return nU,nnF"
      ],
      "execution_count": 4,
      "outputs": []
    },
    {
      "cell_type": "markdown",
      "metadata": {
        "id": "zjOQqg3y05eI",
        "colab_type": "text"
      },
      "source": [
        "# Defining the problem"
      ]
    },
    {
      "cell_type": "code",
      "metadata": {
        "id": "mxfYsNM805eJ",
        "colab_type": "code",
        "colab": {}
      },
      "source": [
        "NodesCondition = []\n",
        "Nodes = 61\n",
        "E = 2*1e5 #MPA\n",
        "L = 1500 #mm\n",
        "b0 = 1000 #mm\n",
        "bf = 0 #mm\n",
        "e = 120 #mm\n",
        "P = 50000 #N\n",
        "K = []\n",
        "y = 0.0784532e-3 #N/mm3\n",
        "A = []\n",
        "alpha = 11e-6\n",
        "DeltaT = 85\n",
        "dL = L/(Nodes-1)\n",
        " \n",
        "for i in range(0,Nodes):\n",
        "    b = b0-i*((b0-bf)/(Nodes-1))\n",
        "    nb = b0-(i+1)*(b0-bf)/(Nodes-1)\n",
        "    A.append((b+nb)*e/2)\n",
        "for i in range(0,Nodes-1):\n",
        "    K.append([E*A[i]/(dL),i,i+1])\n",
        " \n",
        "NumberOfElement = len(K)\n",
        " \n",
        "StiffnessMatrix = np.zeros((Nodes,Nodes))\n",
        "U = np.zeros(Nodes).reshape(Nodes,1)\n",
        "F = np.zeros(Nodes).reshape(Nodes,1)\n",
        " \n",
        "Initialize(StiffnessMatrix,U,F)\n",
        "UBoundaryCondition(U,0,0)\n",
        " \n",
        "for i in range(1,Nodes):\n",
        "    W_T = E*(A[i-1])*alpha*DeltaT\n",
        "    W = y*0.5*(A[i]+A[i-1])*dL\n",
        "    if(i == 1):\n",
        "        W += y*0.5*(A[i-1])*dL\n",
        "    FBoundaryCondition(F,W+W_T,i)\n",
        "    FBoundaryCondition(F,-W_T,i-1)\n",
        "\n",
        "FBoundaryCondition(F,y*0.5*A[Nodes-1]*dL,Nodes-1)\n",
        "FBoundaryCondition(F,P,NumberOfElement//2)\n",
        " \n",
        "U,F=Solve(StiffnessMatrix,U,F)\n",
        " \n",
        " \n",
        "#print(\"Stiffness Matrix:\\n\",StiffnessMatrix,'\\n')\n",
        "#print(\"Displacements:\\n\",U,'\\n')\n",
        "#print(\"Forces:\\n\",F[0],F[Nodes-1])"
      ],
      "execution_count": 5,
      "outputs": []
    },
    {
      "cell_type": "markdown",
      "metadata": {
        "id": "h1uTZpQ905eO",
        "colab_type": "text"
      },
      "source": [
        "# Visualizing the data"
      ]
    },
    {
      "cell_type": "code",
      "metadata": {
        "id": "Gs12INeR05eP",
        "colab_type": "code",
        "colab": {
          "base_uri": "https://localhost:8080/",
          "height": 362
        },
        "outputId": "8a9e4b9c-490a-4324-981d-7ebdcc20ca97"
      },
      "source": [
        "#path = \"/content/drive/My Drive/Colab Notebooks/MC516/PC2/\"\n",
        "plt.figure(figsize=(10,5))\n",
        "plt.grid(True)\n",
        "plt.xlabel(\"Nodo\")\n",
        "plt.ylabel(\"Fuerza (N)\")\n",
        "plt.plot(F,'-bo')\n",
        "#plt.show()\n",
        "#plt.savefig(path + \"forze40.pdf\")"
      ],
      "execution_count": 6,
      "outputs": [
        {
          "output_type": "execute_result",
          "data": {
            "text/plain": [
              "[<matplotlib.lines.Line2D at 0x7f921ed1f240>]"
            ]
          },
          "metadata": {
            "tags": []
          },
          "execution_count": 6
        },
        {
          "output_type": "display_data",
          "data": {
            "image/png": "[encoded data removed]",
            "text/plain": [
              "<Figure size 720x360 with 1 Axes>"
            ]
          },
          "metadata": {
            "tags": [],
            "needs_background": "light"
          }
        }
      ]
    },
    {
      "cell_type": "code",
      "metadata": {
        "id": "VkxgMVdy05eV",
        "colab_type": "code",
        "colab": {
          "base_uri": "https://localhost:8080/",
          "height": 351
        },
        "outputId": "f03bf6fa-1f40-480d-d1e2-4003a7c70924"
      },
      "source": [
        "plt.figure(figsize=(10,5))\n",
        "plt.grid(True)\n",
        "plt.xlabel(\"Nodo\")\n",
        "plt.ylabel(\"Desplazamiento\")\n",
        "plt.plot(U,'-bo')\n",
        "#plt.show()\n",
        "#plt.savefig(path + \"def40.pdf\")"
      ],
      "execution_count": 7,
      "outputs": [
        {
          "output_type": "execute_result",
          "data": {
            "text/plain": [
              "[<matplotlib.lines.Line2D at 0x7f921ec41668>]"
            ]
          },
          "metadata": {
            "tags": []
          },
          "execution_count": 7
        },
        {
          "output_type": "display_data",
          "data": {
            "image/png": "[encoded data removed]",
            "text/plain": [
              "<Figure size 720x360 with 1 Axes>"
            ]
          },
          "metadata": {
            "tags": [],
            "needs_background": "light"
          }
        }
      ]
    },
    {
      "cell_type": "code",
      "metadata": {
        "id": "aEDpqrYB05eb",
        "colab_type": "code",
        "colab": {
          "base_uri": "https://localhost:8080/",
          "height": 441
        },
        "outputId": "54320591-8dec-4968-add4-22dacc571dc9"
      },
      "source": [
        "Displacements_data =  pd.DataFrame(data=U, columns=[\"Desplazamientos\"])\n",
        "Forces_data = pd.DataFrame(data=F, columns=[\"Fuerzas\"])\n",
        "Displacements_data.join(Forces_data)\n",
        "print(np.sum(F))\n",
        "Forces_data"
      ],
      "execution_count": 8,
      "outputs": [
        {
          "output_type": "stream",
          "text": [
            "5.271285772323608e-07\n"
          ],
          "name": "stdout"
        },
        {
          "output_type": "execute_result",
          "data": {
            "text/html": [
              "<div>\n",
              "<style scoped>\n",
              "    .dataframe tbody tr th:only-of-type {\n",
              "        vertical-align: middle;\n",
              "    }\n",
              "\n",
              "    .dataframe tbody tr th {\n",
              "        vertical-align: top;\n",
              "    }\n",
              "\n",
              "    .dataframe thead th {\n",
              "        text-align: right;\n",
              "    }\n",
              "</style>\n",
              "<table border=\"1\" class=\"dataframe\">\n",
              "  <thead>\n",
              "    <tr style=\"text-align: right;\">\n",
              "      <th></th>\n",
              "      <th>Fuerzas</th>\n",
              "    </tr>\n",
              "  </thead>\n",
              "  <tbody>\n",
              "    <tr>\n",
              "      <th>0</th>\n",
              "      <td>-2.231006e+07</td>\n",
              "    </tr>\n",
              "    <tr>\n",
              "      <th>1</th>\n",
              "      <td>3.743481e+05</td>\n",
              "    </tr>\n",
              "    <tr>\n",
              "      <th>2</th>\n",
              "      <td>3.742275e+05</td>\n",
              "    </tr>\n",
              "    <tr>\n",
              "      <th>3</th>\n",
              "      <td>3.742236e+05</td>\n",
              "    </tr>\n",
              "    <tr>\n",
              "      <th>4</th>\n",
              "      <td>3.742197e+05</td>\n",
              "    </tr>\n",
              "    <tr>\n",
              "      <th>...</th>\n",
              "      <td>...</td>\n",
              "    </tr>\n",
              "    <tr>\n",
              "      <th>56</th>\n",
              "      <td>3.740157e+05</td>\n",
              "    </tr>\n",
              "    <tr>\n",
              "      <th>57</th>\n",
              "      <td>3.740118e+05</td>\n",
              "    </tr>\n",
              "    <tr>\n",
              "      <th>58</th>\n",
              "      <td>3.740078e+05</td>\n",
              "    </tr>\n",
              "    <tr>\n",
              "      <th>59</th>\n",
              "      <td>3.740039e+05</td>\n",
              "    </tr>\n",
              "    <tr>\n",
              "      <th>60</th>\n",
              "      <td>1.869990e+05</td>\n",
              "    </tr>\n",
              "  </tbody>\n",
              "</table>\n",
              "<p>61 rows × 1 columns</p>\n",
              "</div>"
            ],
            "text/plain": [
              "         Fuerzas\n",
              "0  -2.231006e+07\n",
              "1   3.743481e+05\n",
              "2   3.742275e+05\n",
              "3   3.742236e+05\n",
              "4   3.742197e+05\n",
              "..           ...\n",
              "56  3.740157e+05\n",
              "57  3.740118e+05\n",
              "58  3.740078e+05\n",
              "59  3.740039e+05\n",
              "60  1.869990e+05\n",
              "\n",
              "[61 rows x 1 columns]"
            ]
          },
          "metadata": {
            "tags": []
          },
          "execution_count": 8
        }
      ]
    },
    {
      "cell_type": "code",
      "metadata": {
        "id": "Q0kw1_w205ef",
        "colab_type": "code",
        "colab": {
          "base_uri": "https://localhost:8080/",
          "height": 1000
        },
        "outputId": "3e7836f9-c857-4ed8-e77b-cd861500de15"
      },
      "source": [
        "nU = []\n",
        "nE = []\n",
        "nstrain = []\n",
        "sigma = []\n",
        "strain = []\n",
        "defor = []\n",
        " \n",
        "dL = (L)/(Nodes-1)\n",
        " \n",
        "for i in range(0,len(U)-1):\n",
        "    strain.append(-U[i][0]/(dL)+U[i+1][0]/(dL))\n",
        "    defor.append(strain[i]*dL)\n",
        "    sigma.append(strain[i]*E-1*E*alpha*DeltaT)\n",
        "    #print(strain[i],sigma[i],1.6*E*alpha*DeltaT)\n",
        " \n",
        "print(\"Esfuerzos (MPa):\\n\",np.array(sigma).reshape((Nodes-1,1)))"
      ],
      "execution_count": 9,
      "outputs": [
        {
          "output_type": "stream",
          "text": [
            "Esfuerzos (MPa):\n",
            " [[ 0.47948594]\n",
            " [ 0.48470676]\n",
            " [ 0.49115805]\n",
            " [ 0.49787243]\n",
            " [ 0.50486411]\n",
            " [ 0.51214834]\n",
            " [ 0.51974155]\n",
            " [ 0.52766138]\n",
            " [ 0.53592686]\n",
            " [ 0.54455852]\n",
            " [ 0.55357856]\n",
            " [ 0.56301101]\n",
            " [ 0.57288189]\n",
            " [ 0.58321951]\n",
            " [ 0.59405464]\n",
            " [ 0.60542082]\n",
            " [ 0.61735466]\n",
            " [ 0.62989625]\n",
            " [ 0.64308951]\n",
            " [ 0.65698272]\n",
            " [ 0.67162904]\n",
            " [ 0.68708715]\n",
            " [ 0.70342199]\n",
            " [ 0.72070563]\n",
            " [ 0.73901824]\n",
            " [ 0.7584493 ]\n",
            " [ 0.77909898]\n",
            " [ 0.80107975]\n",
            " [ 0.82451839]\n",
            " [ 0.8495583 ]\n",
            " [ 0.02890469]\n",
            " [ 0.02792315]\n",
            " [ 0.02694154]\n",
            " [ 0.02595987]\n",
            " [ 0.02497811]\n",
            " [ 0.02399627]\n",
            " [ 0.02301433]\n",
            " [ 0.02203227]\n",
            " [ 0.02105009]\n",
            " [ 0.02006775]\n",
            " [ 0.01908525]\n",
            " [ 0.01810255]\n",
            " [ 0.01711961]\n",
            " [ 0.0161364 ]\n",
            " [ 0.01515286]\n",
            " [ 0.01416892]\n",
            " [ 0.0131845 ]\n",
            " [ 0.01219947]\n",
            " [ 0.01121369]\n",
            " [ 0.01022693]\n",
            " [ 0.0092389 ]\n",
            " [ 0.00824912]\n",
            " [ 0.00725692]\n",
            " [ 0.00626117]\n",
            " [ 0.00525993]\n",
            " [ 0.00424955]\n",
            " [ 0.00322218]\n",
            " [ 0.00215746]\n",
            " [ 0.00098067]\n",
            " [-0.00098066]]\n"
          ],
          "name": "stdout"
        }
      ]
    },
    {
      "cell_type": "code",
      "metadata": {
        "id": "4b2GUxfL05ej",
        "colab_type": "code",
        "colab": {}
      },
      "source": [
        "heatmap = np.zeros(((Nodes-1),(Nodes-1)))\n",
        "for i in range(0,Nodes-1):\n",
        "    for j in range(0,Nodes-1):\n",
        "        if(2*j>=i-1 and 2*(Nodes-1)-2*j-1 >= i):\n",
        "            heatmap[i][j] = 1e3*sigma[i]\n",
        "        else:\n",
        "            heatmap[i][j] = -6e1"
      ],
      "execution_count": 10,
      "outputs": []
    },
    {
      "cell_type": "code",
      "metadata": {
        "id": "5O21TPhi05en",
        "colab_type": "code",
        "colab": {
          "base_uri": "https://localhost:8080/",
          "height": 1000
        },
        "outputId": "fdbed5bd-73f8-4b97-8eee-877a2240f41d"
      },
      "source": [
        "plt.figure(figsize=(8,8))\n",
        "plt.grid(False)\n",
        "plt.axes().xaxis.set_visible(False)\n",
        "plt.axes().yaxis.set_visible(False)\n",
        "plt.imshow(heatmap,cmap='gnuplot2',interpolation='nearest')\n",
        "plt.colorbar().set_label('  kPa',rotation=0)\n",
        "#plt.savefig(path + \"Stress_1.pdf\")\n",
        "#plt.show()\n",
        " \n",
        "plt.figure(figsize=(8,8))\n",
        "plt.grid(False)\n",
        "plt.axes().xaxis.set_visible(False)\n",
        "plt.axes().yaxis.set_visible(False)\n",
        "plt.imshow(heatmap,cmap='jet',interpolation='nearest')\n",
        "plt.colorbar().set_label('   kPa',rotation=0)\n",
        "#plt.savefig(path + \"Stress_2.pdf\")\n",
        "#plt.show()"
      ],
      "execution_count": 11,
      "outputs": [
        {
          "output_type": "stream",
          "text": [
            "/usr/local/lib/python3.6/dist-packages/ipykernel_launcher.py:3: MatplotlibDeprecationWarning: Adding an axes using the same arguments as a previous axes currently reuses the earlier instance.  In a future version, a new instance will always be created and returned.  Meanwhile, this warning can be suppressed, and the future behavior ensured, by passing a unique label to each axes instance.\n",
            "  This is separate from the ipykernel package so we can avoid doing imports until\n",
            "/usr/local/lib/python3.6/dist-packages/ipykernel_launcher.py:4: MatplotlibDeprecationWarning: Adding an axes using the same arguments as a previous axes currently reuses the earlier instance.  In a future version, a new instance will always be created and returned.  Meanwhile, this warning can be suppressed, and the future behavior ensured, by passing a unique label to each axes instance.\n",
            "  after removing the cwd from sys.path.\n",
            "/usr/local/lib/python3.6/dist-packages/ipykernel_launcher.py:12: MatplotlibDeprecationWarning: Adding an axes using the same arguments as a previous axes currently reuses the earlier instance.  In a future version, a new instance will always be created and returned.  Meanwhile, this warning can be suppressed, and the future behavior ensured, by passing a unique label to each axes instance.\n",
            "  if sys.path[0] == '':\n",
            "/usr/local/lib/python3.6/dist-packages/ipykernel_launcher.py:13: MatplotlibDeprecationWarning: Adding an axes using the same arguments as a previous axes currently reuses the earlier instance.  In a future version, a new instance will always be created and returned.  Meanwhile, this warning can be suppressed, and the future behavior ensured, by passing a unique label to each axes instance.\n",
            "  del sys.path[0]\n"
          ],
          "name": "stderr"
        },
        {
          "output_type": "display_data",
          "data": {
            "image/png": "[encoded data removed]",
            "text/plain": [
              "<Figure size 576x576 with 2 Axes>"
            ]
          },
          "metadata": {
            "tags": [],
            "needs_background": "light"
          }
        },
        {
          "output_type": "display_data",
          "data": {
            "image/png": "[encoded data removed]",
            "text/plain": [
              "<Figure size 576x576 with 2 Axes>"
            ]
          },
          "metadata": {
            "tags": [],
            "needs_background": "light"
          }
        }
      ]
    },
    {
      "cell_type": "code",
      "metadata": {
        "id": "C7En8mTd05et",
        "colab_type": "code",
        "colab": {}
      },
      "source": [
        "hdefor = np.zeros((U.shape[0]-1,U.shape[0]-1))\n",
        "for i in range(0,U.shape[0]-1):\n",
        "    for j in range(0,U.shape[0]-1):\n",
        "        if(2*j>=i-1 and 2*U.shape[0]-2*j-1-2 >= i):\n",
        "            hdefor[i][j] = U[i][0]\n",
        "        else:\n",
        "            hdefor[i][j] = 0"
      ],
      "execution_count": 12,
      "outputs": []
    },
    {
      "cell_type": "code",
      "metadata": {
        "id": "tocXGHL_05ex",
        "colab_type": "code",
        "colab": {
          "base_uri": "https://localhost:8080/",
          "height": 1000
        },
        "outputId": "0af804d8-8c50-4f6d-82a0-70f0345d3b0d"
      },
      "source": [
        "plt.figure(figsize=(8,8))\n",
        "plt.grid(False)\n",
        "plt.axes().xaxis.set_visible(False)\n",
        "plt.axes().yaxis.set_visible(False)\n",
        "plt.imshow(hdefor,cmap='gnuplot2',interpolation='nearest')\n",
        "plt.colorbar().set_label('       mm',rotation=0)\n",
        "#plt.savefig(path + \"Deformation_1.pdf\")\n",
        "#plt.show()\n",
        " \n",
        "plt.figure(figsize=(8,8))\n",
        "plt.grid(False)\n",
        "plt.axes().xaxis.set_visible(False)\n",
        "plt.axes().yaxis.set_visible(False)\n",
        "plt.imshow(hdefor,cmap='jet',interpolation='nearest')\n",
        "plt.colorbar().set_label('       mm',rotation=0)\n",
        "#plt.savefig(path + \"Deformation_2.pdf\")\n",
        "#plt.show()"
      ],
      "execution_count": 13,
      "outputs": [
        {
          "output_type": "stream",
          "text": [
            "/usr/local/lib/python3.6/dist-packages/ipykernel_launcher.py:3: MatplotlibDeprecationWarning: Adding an axes using the same arguments as a previous axes currently reuses the earlier instance.  In a future version, a new instance will always be created and returned.  Meanwhile, this warning can be suppressed, and the future behavior ensured, by passing a unique label to each axes instance.\n",
            "  This is separate from the ipykernel package so we can avoid doing imports until\n",
            "/usr/local/lib/python3.6/dist-packages/ipykernel_launcher.py:4: MatplotlibDeprecationWarning: Adding an axes using the same arguments as a previous axes currently reuses the earlier instance.  In a future version, a new instance will always be created and returned.  Meanwhile, this warning can be suppressed, and the future behavior ensured, by passing a unique label to each axes instance.\n",
            "  after removing the cwd from sys.path.\n",
            "/usr/local/lib/python3.6/dist-packages/ipykernel_launcher.py:12: MatplotlibDeprecationWarning: Adding an axes using the same arguments as a previous axes currently reuses the earlier instance.  In a future version, a new instance will always be created and returned.  Meanwhile, this warning can be suppressed, and the future behavior ensured, by passing a unique label to each axes instance.\n",
            "  if sys.path[0] == '':\n",
            "/usr/local/lib/python3.6/dist-packages/ipykernel_launcher.py:13: MatplotlibDeprecationWarning: Adding an axes using the same arguments as a previous axes currently reuses the earlier instance.  In a future version, a new instance will always be created and returned.  Meanwhile, this warning can be suppressed, and the future behavior ensured, by passing a unique label to each axes instance.\n",
            "  del sys.path[0]\n"
          ],
          "name": "stderr"
        },
        {
          "output_type": "display_data",
          "data": {
            "image/png": "[encoded data removed]",
            "text/plain": [
              "<Figure size 576x576 with 2 Axes>"
            ]
          },
          "metadata": {
            "tags": [],
            "needs_background": "light"
          }
        },
        {
          "output_type": "display_data",
          "data": {
            "image/png": "[encoded data removed]",
            "text/plain": [
              "<Figure size 576x576 with 2 Axes>"
            ]
          },
          "metadata": {
            "tags": [],
            "needs_background": "light"
          }
        }
      ]
    }
  ]
}